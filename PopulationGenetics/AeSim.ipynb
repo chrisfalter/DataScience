{
 "cells": [
  {
   "cell_type": "code",
   "execution_count": 28,
   "metadata": {},
   "outputs": [],
   "source": [
    "from collections import Counter\n",
    "import numpy as np"
   ]
  },
  {
   "cell_type": "code",
   "execution_count": 4,
   "metadata": {},
   "outputs": [],
   "source": [
    "# Each individual in a generation is represented as the set of ancestors\n",
    "# from the initial generation. \n",
    "\n",
    "N = 10_000\n",
    "MALE_PROPORTION = 0.5"
   ]
  },
  {
   "cell_type": "code",
   "execution_count": 5,
   "metadata": {},
   "outputs": [],
   "source": [
    "def make_couples(generation:np.ndarray, male_proportion:float = MALE_PROPORTION) -> np.ndarray:\n",
    "    \"\"\"Split the generation into male and female segments, form couples\n",
    "    \n",
    "    Returns: array of couple, where each couple is represented as the union of their ancestors\n",
    "    \"\"\"\n",
    "    # population size and male_proportion are parameters to allow for more dynamic simulations\n",
    "    population_size = len(generation)\n",
    "    num_males = int(male_proportion * population_size)\n",
    "    num_females = population_size - num_males\n",
    "    men = generation[:num_males]\n",
    "    women = generation[num_males:]\n",
    "    np.random.shuffle(men)\n",
    "    np.random.shuffle(women)\n",
    "    couples = []\n",
    "    for i in range(min(num_males, num_females)):\n",
    "        couples.append(men[i].union(women[i]))\n",
    "    if not num_males == num_females:\n",
    "        for i in range(abs(num_females - num_males)):\n",
    "            if num_males < num_females:\n",
    "                couples.append(men[i].union(women[i + num_males]))\n",
    "            else:\n",
    "                couples.append(women[i].union(men[i + num_females]))\n",
    "    return np.array(couples)\n"
   ]
  },
  {
   "cell_type": "code",
   "execution_count": 6,
   "metadata": {},
   "outputs": [],
   "source": [
    "def create_next_generation(couples:np.ndarray, population_size:int = N) -> np.ndarray:\n",
    "    \"\"\"Create the next population generation\"\"\"\n",
    "    num_couples = len(couples)\n",
    "    children_index = np.random.randint(0, high=num_couples, size=population_size)\n",
    "    return np.take(couples, children_index)\n"
   ]
  },
  {
   "cell_type": "code",
   "execution_count": 7,
   "metadata": {},
   "outputs": [],
   "source": [
    "def count_descendants(generation:np.ndarray) -> Counter:\n",
    "    \"\"\"Return a Counter with info on how many descendants first-gen ancestors have.\n",
    "    \n",
    "    Note: Ancestors with no descendants do not have an indexed entry in the Counter\n",
    "    \"\"\"\n",
    "    c = Counter()\n",
    "    for individual in generation:\n",
    "        c += Counter(individual)\n",
    "    return c"
   ]
  },
  {
   "cell_type": "code",
   "execution_count": 8,
   "metadata": {},
   "outputs": [],
   "source": [
    "def is_genealogical_ae_present(descendant_counts:Counter , population_size:int = N) -> bool:\n",
    "    if max(descendant_counts.values()) == population_size:\n",
    "        return True\n",
    "    else:\n",
    "        return False"
   ]
  },
  {
   "cell_type": "code",
   "execution_count": 9,
   "metadata": {},
   "outputs": [],
   "source": [
    "# In the initial generation, each individual's ancestry is self\n",
    "generation = np.array([{i} for i in range(N)])\n",
    "for i in range(1000):\n",
    "    couples = make_couples(generation)\n",
    "    next_gen = create_next_generation(couples)\n",
    "    descendants = count_descendants(next_gen)\n",
    "    if is_genealogical_ae_present(descendants):\n",
    "        break\n",
    "    else:\n",
    "        generation = next_gen\n",
    "\n"
   ]
  },
  {
   "cell_type": "code",
   "execution_count": 29,
   "metadata": {},
   "outputs": [],
   "source": [
    "class SimReport():\n",
    "\n",
    "    start_population:int\n",
    "    num_generations:int\n",
    "    num_ancestors_represented:int\n",
    "    num_ae_couples:int\n",
    "    distribution_of_couples_descendants:Counter\n",
    "\n",
    "report = SimReport()\n",
    "report.start_population = N\n",
    "report.num_generations = i + 1 # Python iteration starts at zero, but we start at 1\n",
    "report.num_ancestors_represented = len(descendants)\n",
    "d = Counter(descendants.values())\n",
    "c = Counter()\n",
    "for k in d:\n",
    "    c[k] = int(d[k]/2)\n",
    "report.distribution_of_couples_descendants = c\n",
    "report.num_ae_couples = report.distribution_of_couples_descendants[N]\n",
    "\n",
    "\n"
   ]
  },
  {
   "cell_type": "code",
   "execution_count": 30,
   "metadata": {},
   "outputs": [
    {
     "name": "stdout",
     "output_type": "stream",
     "text": [
      "Initial ancestral couples: 5000\n",
      "Number of generations until A/E couple emerged: 14\n",
      "Number of ancestral couples still in gene pool at simulation end: 3934\n",
      "Number of A/E couples at simulation end: 16\n",
      "Number of ancestral couples who are ancestors of 90+% of final generation: 1416\n"
     ]
    }
   ],
   "source": [
    "print(\"Initial ancestral couples:\", int(report.start_population / 2))\n",
    "print(\"Number of generations until A/E couple emerged:\", report.num_generations)\n",
    "print(\"Number of ancestral couples still in gene pool at simulation end:\", int(report.num_ancestors_represented/2))\n",
    "print(\"Number of A/E couples at simulation end:\", int(report.num_ae_couples))\n",
    "almost_ae = 0\n",
    "for k in report.distribution_of_couples_descendants:\n",
    "    if k >= N * 0.9:\n",
    "        almost_ae += report.distribution_of_couples_descendants[k]\n",
    "print(\"Number of ancestral couples who are ancestors of 90+% of final generation:\", almost_ae)"
   ]
  }
 ],
 "metadata": {
  "interpreter": {
   "hash": "828df43cd195b0ba49f40bd1033597d1e6b61f95f7831763ded5e05fe1de8648"
  },
  "kernelspec": {
   "display_name": "Python 3.9.9 64-bit ('gcf-3.9': venv)",
   "language": "python",
   "name": "python3"
  },
  "language_info": {
   "codemirror_mode": {
    "name": "ipython",
    "version": 3
   },
   "file_extension": ".py",
   "mimetype": "text/x-python",
   "name": "python",
   "nbconvert_exporter": "python",
   "pygments_lexer": "ipython3",
   "version": "3.6.7"
  },
  "orig_nbformat": 4
 },
 "nbformat": 4,
 "nbformat_minor": 2
}
