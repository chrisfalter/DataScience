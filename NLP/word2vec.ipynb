{
 "metadata": {
  "language_info": {
   "codemirror_mode": {
    "name": "ipython",
    "version": 3
   },
   "file_extension": ".py",
   "mimetype": "text/x-python",
   "name": "python",
   "nbconvert_exporter": "python",
   "pygments_lexer": "ipython3",
   "version": "3.8.3-final"
  },
  "orig_nbformat": 2,
  "kernelspec": {
   "name": "Python 3.8.3 64-bit ('nlp': conda)",
   "display_name": "Python 3.8.3 64-bit ('nlp': conda)",
   "metadata": {
    "interpreter": {
     "hash": "289ed96ab1fa409f68f8caef02580dc471ca3b3272f0c5ae82344fef5b4773f1"
    }
   }
  }
 },
 "nbformat": 4,
 "nbformat_minor": 2,
 "cells": [
  {
   "source": [
    "# Word2Vec Embeddings\n",
    "\n",
    "This notebook explores the Continuous Bag of Words (CBOW) word embedding strategy. After an embedding layer of a neural network is trained, it can be used as a look-up that returns a vector, typically of rank 100 to 300, for each word ID. Among the advantages of the projection of words into a vector space are the following:\n",
    "\n",
    "* Word similarities and dissimilarities can be measured by distance.\n",
    "* The dimensionality of the vocabulary is sharply reduced, which sharply improves computational efficiency.\n",
    "\n",
    "This notebook implements the Word2Vec model (Mikolov, et al., 2013), which is the most common CBOW implementation. "
   ],
   "cell_type": "markdown",
   "metadata": {}
  },
  {
   "source": [
    "## Load the NLTK Inaugural Corpus"
   ],
   "cell_type": "markdown",
   "metadata": {}
  },
  {
   "cell_type": "code",
   "execution_count": 1,
   "metadata": {},
   "outputs": [],
   "source": [
    "import numpy as np\n",
    "from numpy.random import default_rng\n",
    "import re\n",
    "import string\n",
    "from typing import List, Tuple\n",
    "\n",
    "import nltk\n",
    "from nltk.corpus import inaugural, stopwords\n",
    "from nltk.tokenize import sent_tokenize, word_tokenize\n",
    "import pylab as plt\n",
    "from sklearn.manifold import TSNE\n",
    "from sklearn.metrics.pairwise import euclidean_distances, cosine_distances\n",
    "import tensorflow as tf \n",
    "import tensorflow.keras.backend as K\n",
    "from tensorflow.keras.layers import Dense, Embedding, Lambda\n",
    "from tensorflow.keras.models import Sequential\n",
    "from tensorflow.keras.preprocessing import sequence, text\n",
    "from tensorflow.keras.utils import to_categorical\n",
    "\n",
    "from contractions import CONTRACTION_MAP"
   ]
  },
  {
   "source": [
    "## Pre-process the corpus\n",
    "\n",
    "Pre-processing will include the following steps:\n",
    "\n",
    "* sentence tokenize\n",
    "* lower case\n",
    "* expand contractions\n",
    "* remove numbers\n",
    "* remove stopwords\n",
    "* remove punctuation\n",
    "\n",
    "The `contractions` module has been downloaded from Sarkar, D (2016) Text Analytics with Python \\[Source code\\] https://github.com/dipanjanS/text-analytics-with-python/blob/master/New-Second-Edition/Ch03%20-%20Processing%20and%20Understanding%20Text/contractions.py\n",
    "\n",
    "The `expand_match` and `expand_contractions` functions are adapted from (Sarker, D., 2019, p. 137)"
   ],
   "cell_type": "markdown",
   "metadata": {}
  },
  {
   "cell_type": "code",
   "execution_count": 2,
   "metadata": {
    "tags": []
   },
   "outputs": [
    {
     "output_type": "stream",
     "name": "stdout",
     "text": "Fellow-Citizens of the Senate and of the House of Representatives:\n\nAmong the vicissitudes incident to life no event could have filled me with greater anxieties than that of which the notification was transmitted by your order, and received on the 14th day of the present month. On the one hand, I was summoned by my Country, whose voice I can never hear but with veneration and love, from a retreat which I had chosen with the fondest predilection, and, in my flattering hopes, with an immutable decision, as the asylum of my declining years -- a retreat which was rendered every day more necessary as well as more dear to me by the addition of habit to inclination, and of frequent interruptions in my health to the gradual\n\n[&#39;fellow-citizens senate house representatives among vicissitudes incident life event could filled greater anxieties notification transmitted order received day present month&#39;, &#39;one hand summoned country whose voice never hear veneration love retreat chosen fondest predilection flattering hopes immutable decision asylum declining years retreat rendered every day necessary well dear addition habit inclination frequent interruptions health gradual waste committed time&#39;]\n"
    }
   ],
   "source": [
    "contractions_pattern = '|'.join(CONTRACTION_MAP.keys())\n",
    "contractions_rgx = re.compile(contractions_pattern)\n",
    "numbers_rgx = re.compile(r\"\\d+\")\n",
    "\n",
    "def expand_match(contraction: re.Match) -> str:\n",
    "    match = contraction.group(0)\n",
    "    return CONTRACTION_MAP[match]\n",
    "\n",
    "def expand_contractions(text: str) -> str:\n",
    "    expanded_text = contractions_rgx.sub(expand_match, text)\n",
    "    return expanded_text.replace(\"'\", \"\")\n",
    "\n",
    "stop_words = set(stopwords.words('english'))\n",
    "\n",
    "def preprocess(doc: str) -> List[str]:\n",
    "    \"\"\"Return list of preprocessed sentences\"\"\"\n",
    "    output: List[str] = []\n",
    "    sentences = sent_tokenize(doc)\n",
    "    for sentence in sentences:\n",
    "        words: List[str] = []\n",
    "        sentence = sentence.lower()\n",
    "        sentence = expand_contractions(sentence)\n",
    "        sentence = numbers_rgx.sub('', sentence)\n",
    "        tokens = word_tokenize(sentence)\n",
    "        for tok in tokens:\n",
    "            if tok not in string.punctuation and \\\n",
    "                tok not in stop_words and \\\n",
    "                len(tok) > 2:\n",
    "                words.append(tok)\n",
    "        if len(words) > 0:\n",
    "            output.append(' '.join(words))\n",
    "    return output\n",
    "\n",
    "docs: List[str] = []\n",
    "for file_id in inaugural.fileids():\n",
    "    docs.extend(preprocess(inaugural.raw(file_id)))\n",
    "\n",
    "# verify the pre-processing by printing a couple sentences from the first inaugural and from the corpus\n",
    "print(inaugural.raw(inaugural.fileids()[0])[:725])\n",
    "print()\n",
    "print(docs[:2])"
   ]
  },
  {
   "source": [
    "## Create a corpus vocabulary\n",
    "\n",
    "The following code cell is adapted from (Sarkar, D., 2019, p. 236)."
   ],
   "cell_type": "markdown",
   "metadata": {}
  },
  {
   "cell_type": "code",
   "execution_count": 3,
   "metadata": {
    "tags": []
   },
   "outputs": [
    {
     "output_type": "stream",
     "name": "stdout",
     "text": "Vocabulary contains 9011 words\nVocabulary sample: [(&#39;government&#39;, 1), (&#39;people&#39;, 2), (&#39;upon&#39;, 3), (&#39;must&#39;, 4), (&#39;great&#39;, 5), (&#39;may&#39;, 6), (&#39;states&#39;, 7), (&#39;shall&#39;, 8), (&#39;world&#39;, 9), (&#39;country&#39;, 10)]\nInverse vocabulary sample: [(1, &#39;government&#39;), (2, &#39;people&#39;), (3, &#39;upon&#39;), (4, &#39;must&#39;), (5, &#39;great&#39;), (6, &#39;may&#39;), (7, &#39;states&#39;), (8, &#39;shall&#39;), (9, &#39;world&#39;), (10, &#39;country&#39;)]\n"
    }
   ],
   "source": [
    "tokenizer = text.Tokenizer()\n",
    "tokenizer.fit_on_texts(docs)\n",
    "word_id_map = tokenizer.word_index\n",
    "word_id_map['PAD'] = 0\n",
    "id_word_map = {v:k for k, v in word_id_map.items()}\n",
    "\n",
    "# Verify by checking the vocabulary length and a sample of word, id tuples\n",
    "print(f\"Vocabulary contains {len(word_id_map)} words\")\n",
    "print(\"Vocabulary sample:\", list(word_id_map.items())[:10])\n",
    "print(\"Inverse vocabulary sample:\", list(id_word_map.items())[:10])"
   ]
  },
  {
   "source": [
    "## (Context, Target) Generator\n",
    "\n",
    "The generator function `generate_context_target_tuples()` yields a tuple of lists:\n",
    "\n",
    "* a list of the context words that surround each target word in a sentence, and\n",
    "* a single element list containing the corresponding target word\n",
    "\n",
    "The list of context words adds \"PAD\" tokens as needed at the beginning and end of each sentence. \n",
    "\n",
    "The function borrows generously from (Sarkar, D., 2019, p. 237)."
   ],
   "cell_type": "markdown",
   "metadata": {}
  },
  {
   "cell_type": "code",
   "execution_count": 4,
   "metadata": {
    "tags": []
   },
   "outputs": [
    {
     "output_type": "stream",
     "name": "stdout",
     "text": "Context: [&#39;fellow&#39;, &#39;citizens&#39;, &#39;house&#39;, &#39;representatives&#39;] Target: senate\nContext: [&#39;citizens&#39;, &#39;senate&#39;, &#39;representatives&#39;, &#39;among&#39;] Target: house\nContext: [&#39;senate&#39;, &#39;house&#39;, &#39;among&#39;, &#39;vicissitudes&#39;] Target: representatives\nContext: [&#39;house&#39;, &#39;representatives&#39;, &#39;vicissitudes&#39;, &#39;incident&#39;] Target: among\nContext: [&#39;representatives&#39;, &#39;among&#39;, &#39;incident&#39;, &#39;life&#39;] Target: vicissitudes\n"
    }
   ],
   "source": [
    "def generate_context_target_tuples(docs: List[str], window_size: int, vocab_size: int) -> Tuple[List[List[int]], List[int]]:\n",
    "    \"\"\"Generate the context of window_size words on each side of a word for every word in every doc\n",
    "    \n",
    "    Note\n",
    "    ----\n",
    "    Yields a tuple of window_size * 2 context words and a one-hot vector of the corresponding target word\n",
    "    \"\"\"\n",
    "    len_context = window_size * 2\n",
    "    for sentence in docs:\n",
    "        len_sentence = len(sentence)\n",
    "        for idx, word in enumerate(sentence):\n",
    "            context_words: List[List[int]] = []\n",
    "            label_word: List[int] = []\n",
    "            start = idx - window_size\n",
    "            end = idx + window_size + 1 # add 1 bc/of target word in the middle\n",
    "            context_words.append([sentence[i] for i in range(start, end)\n",
    "                                  if 0 <= i < len_sentence and i != idx])\n",
    "            label_word.append(word)\n",
    "\n",
    "            x = sequence.pad_sequences(context_words, maxlen=len_context)\n",
    "            y = to_categorical(label_word, vocab_size)\n",
    "            yield (x, y)\n",
    "\n",
    "# Test with a couple sentences from the corpus\n",
    "# Print out the first 5 context, target tuples\n",
    "context = 0\n",
    "target = 1\n",
    "i = 0\n",
    "corpus = np.array([[word_id_map[w] for w in text.text_to_word_sequence(sentence)] for sentence in docs])\n",
    "for x, y in generate_context_target_tuples(corpus, window_size=2, vocab_size=len(word_id_map)):\n",
    "    if 0 in x[context]:\n",
    "        continue\n",
    "    print(\"Context:\", [id_word_map[w] for w in x[context]], 'Target:', id_word_map[np.argmax(y[0])])\n",
    "    if i == 4:\n",
    "        break\n",
    "    i += 1\n"
   ]
  },
  {
   "source": [
    "### Prepare data for batch training\n",
    "\n",
    "In order to accelerate the training steps with batching, the context <==> target pairs generated from the corpus are packaged as numpy arrays. This succeeds because the _inaugural_ corpus is small enough to fit in a laptop's memory. For a much larger corpus, a generator  parameterized by batch size would be essential."
   ],
   "cell_type": "markdown",
   "metadata": {}
  },
  {
   "cell_type": "code",
   "execution_count": 8,
   "metadata": {
    "tags": []
   },
   "outputs": [
    {
     "output_type": "stream",
     "name": "stdout",
     "text": "(63776, 4) (63776, 9011)\n"
    }
   ],
   "source": [
    "context_arrays: List[List[int]] = []\n",
    "targets: List[List[int]] = [] # Each list will have length 1\n",
    "window_size = 2\n",
    "vocab_size = len(word_id_map)\n",
    "for x, y in generate_context_target_tuples(corpus, window_size=2, vocab_size=len(word_id_map)):\n",
    "    context_arrays.append(x)\n",
    "    targets.append(y)\n",
    "x_train = np.array(context_arrays).reshape((len(context_arrays), window_size * 2))\n",
    "y_train = np.array(targets, dtype='int8').reshape((len(targets), vocab_size))\n",
    "print(x_train.shape, y_train.shape)"
   ]
  },
  {
   "source": [
    "## CBOW Model\n",
    "\n",
    "The CBOW model has the proxy task of predicting the target word given the context words. According to the distributional hypothesis, words that occur in similar contexts tend to have similar meanings (Wiki of the Association for Computational Linguistics, 2010). Consequently, the back-propagation of prediction error will cause target words with similar contexts to have similar weights in the  embedding layer.\n",
    "\n",
    "Once the embedding layer has been trained, it can be used as a statespace into which vocabulary words are projected.\n",
    "\n",
    "The code in the cell below is largely copied from (Sarkar, 2019, p. 239)"
   ],
   "cell_type": "markdown",
   "metadata": {}
  },
  {
   "cell_type": "code",
   "execution_count": 12,
   "metadata": {},
   "outputs": [],
   "source": [
    "embed_size = 100\n",
    "\n",
    "# CBOW Architecture\n",
    "cbow = Sequential()\n",
    "cbow.add(Embedding(input_dim = vocab_size, output_dim = embed_size, input_length = window_size * 2))\n",
    "cbow.add(Lambda(lambda x: K.mean(x, axis = 1), output_shape = (embed_size,)))\n",
    "cbow.add(Dense(vocab_size, activation = 'softmax'))\n",
    "cbow.compile(loss = 'categorical_crossentropy', optimizer = tf.keras.optimizers.RMSprop(learning_rate=0.0002))"
   ]
  },
  {
   "cell_type": "code",
   "execution_count": 13,
   "metadata": {
    "tags": []
   },
   "outputs": [
    {
     "output_type": "stream",
     "name": "stdout",
     "text": "Model: &quot;sequential_2&quot;\n_________________________________________________________________\nLayer (type)                 Output Shape              Param #   \n=================================================================\nembedding_2 (Embedding)      (None, 4, 100)            901100    \n_________________________________________________________________\nlambda_2 (Lambda)            (None, 100)               0         \n_________________________________________________________________\ndense_2 (Dense)              (None, 9011)              910111    \n=================================================================\nTotal params: 1,811,211\nTrainable params: 1,811,211\nNon-trainable params: 0\n_________________________________________________________________\nNone\n"
    }
   ],
   "source": [
    "# view model summary\n",
    "print(cbow.summary())"
   ]
  },
  {
   "source": [
    "## Train Model\n",
    "\n",
    "While (Sarkar, 2019) proposes a stochastic training methodolog, the batch cycle implemented in the code below is orders of magnitude faster."
   ],
   "cell_type": "markdown",
   "metadata": {}
  },
  {
   "cell_type": "code",
   "execution_count": 14,
   "metadata": {
    "tags": []
   },
   "outputs": [
    {
     "output_type": "stream",
     "name": "stdout",
     "text": "Epoch 1/20\n1993/1993 - 47s - loss: 8.7352\nEpoch 2/20\n1993/1993 - 47s - loss: 8.1479\nEpoch 3/20\n1993/1993 - 47s - loss: 8.0171\nEpoch 4/20\n1993/1993 - 47s - loss: 7.9678\nEpoch 5/20\n1993/1993 - 47s - loss: 7.9357\nEpoch 6/20\n1993/1993 - 47s - loss: 7.9145\nEpoch 7/20\n1993/1993 - 47s - loss: 7.8981\nEpoch 8/20\n1993/1993 - 47s - loss: 7.8848\nEpoch 9/20\n1993/1993 - 47s - loss: 7.8736\nEpoch 10/20\n1993/1993 - 49s - loss: 7.8630\nEpoch 11/20\n1993/1993 - 48s - loss: 7.8518\nEpoch 12/20\n1993/1993 - 47s - loss: 7.8403\nEpoch 13/20\n1993/1993 - 48s - loss: 7.8285\nEpoch 14/20\n1993/1993 - 48s - loss: 7.8171\nEpoch 15/20\n1993/1993 - 48s - loss: 7.8064\nEpoch 16/20\n1993/1993 - 48s - loss: 7.7952\nEpoch 17/20\n1993/1993 - 48s - loss: 7.7843\nEpoch 18/20\n1993/1993 - 47s - loss: 7.7726\nEpoch 19/20\n1993/1993 - 47s - loss: 7.7612\nEpoch 20/20\n1993/1993 - 47s - loss: 7.7515\n"
    },
    {
     "output_type": "execute_result",
     "data": {
      "text/plain": "&lt;tensorflow.python.keras.callbacks.History at 0x1d7e0a25520&gt;"
     },
     "metadata": {},
     "execution_count": 14
    }
   ],
   "source": [
    "# Train model\n",
    "early_stopper = tf.keras.callbacks.EarlyStopping(monitor = 'loss', verbose = 2, restore_best_weights = True)\n",
    "tf.config.run_functions_eagerly(True)\n",
    "cbow.fit(x_train, y_train, epochs = 20, callbacks = early_stopper, verbose = 2)"
   ]
  },
  {
   "source": [
    "Because the loss has not yet reached a local minimum, why not continue? To do so, we have to set the `initial_epoch` parameter of the `Model.fit()` method so the optimizer will behave correctly when training resumes."
   ],
   "cell_type": "markdown",
   "metadata": {}
  },
  {
   "cell_type": "code",
   "execution_count": 15,
   "metadata": {
    "tags": []
   },
   "outputs": [
    {
     "output_type": "stream",
     "name": "stdout",
     "text": "Epoch 22/100\n1993/1993 - 46s - loss: 7.7436\nEpoch 23/100\n1993/1993 - 47s - loss: 7.7379\nEpoch 24/100\n1993/1993 - 47s - loss: 7.7348\nEpoch 25/100\nRestoring model weights from the end of the best epoch.\n1993/1993 - 47s - loss: 7.7348\nEpoch 00025: early stopping\n"
    },
    {
     "output_type": "execute_result",
     "data": {
      "text/plain": "&lt;tensorflow.python.keras.callbacks.History at 0x1d98d61e5b0&gt;"
     },
     "metadata": {},
     "execution_count": 15
    }
   ],
   "source": [
    "early_stopper = tf.keras.callbacks.EarlyStopping(\n",
    "    monitor = 'loss', \n",
    "    verbose = 2, \n",
    "    restore_best_weights = True,\n",
    "    patience = 1,\n",
    ")\n",
    "cbow.fit(\n",
    "    x_train, \n",
    "    y_train, \n",
    "    initial_epoch = 21,\n",
    "    epochs = 100, \n",
    "    callbacks = early_stopper, \n",
    "    verbose = 2\n",
    ")"
   ]
  },
  {
   "source": [
    "## Use embeddings to find words nearest search terms\n",
    "\n",
    "The weights in the model's embedding layer can now be used as a vector space. The ID of the vocabulary word can serve as the index into the embedding space.\n",
    "\n",
    "The sample words used in this exercise are:\n",
    "\n",
    "* 'citizens'\n",
    "* 'life' \n",
    "* 'senate'\n",
    "* 'know'"
   ],
   "cell_type": "markdown",
   "metadata": {}
  },
  {
   "cell_type": "code",
   "execution_count": 16,
   "metadata": {},
   "outputs": [
    {
     "output_type": "execute_result",
     "data": {
      "text/plain": "{&#39;citizens&#39;: [&#39;institutions&#39;, &#39;peoples&#39;, &#39;governments&#39;, &#39;economic&#39;, &#39;attempt&#39;],\n &#39;life&#39;: [&#39;degree&#39;, &#39;effort&#39;, &#39;opinion&#39;, &#39;legislature&#39;, &#39;highest&#39;],\n &#39;senate&#39;: [&#39;presently&#39;, &#39;disapproved&#39;, &#39;tasked&#39;, &#39;heartened&#39;, &#39;allocating&#39;],\n &#39;know&#39;: [&#39;half&#39;, &#39;afford&#39;, &#39;ultimately&#39;, &#39;favored&#39;, &#39;questions&#39;]}"
     },
     "metadata": {},
     "execution_count": 16
    }
   ],
   "source": [
    "# get the word2vec embedding for our vocabulary\n",
    "weights = cbow.get_weights()[0]\n",
    "\n",
    "# find the 5 nearest words in the embedding space to 4 sample words\n",
    "my_words = ['citizens', 'life', 'senate', 'know']\n",
    "dist_matrix = euclidean_distances(weights)\n",
    "similar_words = {\n",
    "    search_word: [id_word_map[idx] for idx in dist_matrix[word_id_map[search_word]- 1].argsort()[1:6] + 1]\n",
    "                    for search_word in my_words\n",
    "}\n",
    "similar_words\n"
   ]
  },
  {
   "source": [
    "## Visualize distances in word embeddings space\n",
    "\n",
    "The T-SNE algorithm is used to project the search terms and nearest neighbors into a 2-dimensional space. \n"
   ],
   "cell_type": "markdown",
   "metadata": {}
  },
  {
   "cell_type": "code",
   "execution_count": 19,
   "metadata": {},
   "outputs": [
    {
     "output_type": "display_data",
     "data": {
      "text/plain": "&lt;Figure size 648x648 with 1 Axes&gt;",
      "image/svg+xml": "<?xml version=\"1.0\" encoding=\"utf-8\" standalone=\"no\"?>\r\n<!DOCTYPE svg PUBLIC \"-//W3C//DTD SVG 1.1//EN\"\r\n  \"http://www.w3.org/Graphics/SVG/1.1/DTD/svg11.dtd\">\r\n<!-- Created with matplotlib (https://matplotlib.org/) -->\r\n<svg height=\"520.318125pt\" version=\"1.1\" viewBox=\"0 0 577.91132 520.318125\" width=\"577.91132pt\" xmlns=\"http://www.w3.org/2000/svg\" xmlns:xlink=\"http://www.w3.org/1999/xlink\">\r\n <metadata>\r\n  <rdf:RDF xmlns:cc=\"http://creativecommons.org/ns#\" xmlns:dc=\"http://purl.org/dc/elements/1.1/\" xmlns:rdf=\"http://www.w3.org/1999/02/22-rdf-syntax-ns#\">\r\n   <cc:Work>\r\n    <dc:type rdf:resource=\"http://purl.org/dc/dcmitype/StillImage\"/>\r\n    <dc:date>2020-10-05T12:52:18.907829</dc:date>\r\n    <dc:format>image/svg+xml</dc:format>\r\n    <dc:creator>\r\n     <cc:Agent>\r\n      <dc:title>Matplotlib v3.3.1, https://matplotlib.org/</dc:title>\r\n     </cc:Agent>\r\n    </dc:creator>\r\n   </cc:Work>\r\n  </rdf:RDF>\r\n </metadata>\r\n <defs>\r\n  <style type=\"text/css\">*{stroke-linecap:butt;stroke-linejoin:round;}</style>\r\n </defs>\r\n <g id=\"figure_1\">\r\n  <g id=\"patch_1\">\r\n   <path d=\"M 0 520.318125 \r\nL 577.91132 520.318125 \r\nL 577.91132 0 \r\nL 0 0 \r\nz\r\n\" style=\"fill:none;\"/>\r\n  </g>\r\n  <g id=\"axes_1\">\r\n   <g id=\"patch_2\">\r\n    <path d=\"M 41.667188 496.44 \r\nL 543.867188 496.44 \r\nL 543.867188 7.2 \r\nL 41.667188 7.2 \r\nz\r\n\" style=\"fill:#ffffff;\"/>\r\n   </g>\r\n   <g id=\"PathCollection_1\">\r\n    <defs>\r\n     <path d=\"M 0 3 \r\nC 0.795609 3 1.55874 2.683901 2.12132 2.12132 \r\nC 2.683901 1.55874 3 0.795609 3 0 \r\nC 3 -0.795609 2.683901 -1.55874 2.12132 -2.12132 \r\nC 1.55874 -2.683901 0.795609 -3 0 -3 \r\nC -0.795609 -3 -1.55874 -2.683901 -2.12132 -2.12132 \r\nC -2.683901 -1.55874 -3 -0.795609 -3 0 \r\nC -3 0.795609 -2.683901 1.55874 -2.12132 2.12132 \r\nC -1.55874 2.683901 -0.795609 3 0 3 \r\nz\r\n\" id=\"mce7b1d30a1\" style=\"stroke:#000000;\"/>\r\n    </defs>\r\n    <g clip-path=\"url(#pb3f6928897)\">\r\n     <use style=\"fill:#ff0000;stroke:#000000;\" x=\"317.143269\" xlink:href=\"#mce7b1d30a1\" y=\"474.201818\"/>\r\n     <use style=\"fill:#ff0000;stroke:#000000;\" x=\"168.624032\" xlink:href=\"#mce7b1d30a1\" y=\"379.1888\"/>\r\n     <use style=\"fill:#ff0000;stroke:#000000;\" x=\"272.915404\" xlink:href=\"#mce7b1d30a1\" y=\"162.465752\"/>\r\n     <use style=\"fill:#ff0000;stroke:#000000;\" x=\"174.489494\" xlink:href=\"#mce7b1d30a1\" y=\"89.444042\"/>\r\n     <use style=\"fill:#ff0000;stroke:#000000;\" x=\"322.371772\" xlink:href=\"#mce7b1d30a1\" y=\"378.762511\"/>\r\n     <use style=\"fill:#ff0000;stroke:#000000;\" x=\"403.796497\" xlink:href=\"#mce7b1d30a1\" y=\"235.673476\"/>\r\n    </g>\r\n   </g>\r\n   <g id=\"PathCollection_2\">\r\n    <defs>\r\n     <path d=\"M 0 3 \r\nC 0.795609 3 1.55874 2.683901 2.12132 2.12132 \r\nC 2.683901 1.55874 3 0.795609 3 0 \r\nC 3 -0.795609 2.683901 -1.55874 2.12132 -2.12132 \r\nC 1.55874 -2.683901 0.795609 -3 0 -3 \r\nC -0.795609 -3 -1.55874 -2.683901 -2.12132 -2.12132 \r\nC -2.683901 -1.55874 -3 -0.795609 -3 0 \r\nC -3 0.795609 -2.683901 1.55874 -2.12132 2.12132 \r\nC -1.55874 2.683901 -0.795609 3 0 3 \r\nz\r\n\" id=\"mb10840e670\" style=\"stroke:#000000;\"/>\r\n    </defs>\r\n    <g clip-path=\"url(#pb3f6928897)\">\r\n     <use style=\"fill:#0000ff;stroke:#000000;\" x=\"420.371594\" xlink:href=\"#mb10840e670\" y=\"57.979787\"/>\r\n     <use style=\"fill:#0000ff;stroke:#000000;\" x=\"481.733635\" xlink:href=\"#mb10840e670\" y=\"243.437967\"/>\r\n     <use style=\"fill:#0000ff;stroke:#000000;\" x=\"339.692779\" xlink:href=\"#mb10840e670\" y=\"71.738139\"/>\r\n     <use style=\"fill:#0000ff;stroke:#000000;\" x=\"233.567107\" xlink:href=\"#mb10840e670\" y=\"29.438182\"/>\r\n     <use style=\"fill:#0000ff;stroke:#000000;\" x=\"251.300187\" xlink:href=\"#mb10840e670\" y=\"80.768904\"/>\r\n     <use style=\"fill:#0000ff;stroke:#000000;\" x=\"404.448559\" xlink:href=\"#mb10840e670\" y=\"180.988823\"/>\r\n    </g>\r\n   </g>\r\n   <g id=\"PathCollection_3\">\r\n    <defs>\r\n     <path d=\"M 0 3 \r\nC 0.795609 3 1.55874 2.683901 2.12132 2.12132 \r\nC 2.683901 1.55874 3 0.795609 3 0 \r\nC 3 -0.795609 2.683901 -1.55874 2.12132 -2.12132 \r\nC 1.55874 -2.683901 0.795609 -3 0 -3 \r\nC -0.795609 -3 -1.55874 -2.683901 -2.12132 -2.12132 \r\nC -2.683901 -1.55874 -3 -0.795609 -3 0 \r\nC -3 0.795609 -2.683901 1.55874 -2.12132 2.12132 \r\nC -1.55874 2.683901 -0.795609 3 0 3 \r\nz\r\n\" id=\"m8ef1816272\" style=\"stroke:#000000;\"/>\r\n    </defs>\r\n    <g clip-path=\"url(#pb3f6928897)\">\r\n     <use style=\"fill:#008000;stroke:#000000;\" x=\"464.893814\" xlink:href=\"#m8ef1816272\" y=\"341.204175\"/>\r\n     <use style=\"fill:#008000;stroke:#000000;\" x=\"318.030435\" xlink:href=\"#m8ef1816272\" y=\"256.61817\"/>\r\n     <use style=\"fill:#008000;stroke:#000000;\" x=\"408.06117\" xlink:href=\"#m8ef1816272\" y=\"368.732443\"/>\r\n     <use style=\"fill:#008000;stroke:#000000;\" x=\"182.662468\" xlink:href=\"#m8ef1816272\" y=\"223.847705\"/>\r\n     <use style=\"fill:#008000;stroke:#000000;\" x=\"235.72952\" xlink:href=\"#m8ef1816272\" y=\"241.689084\"/>\r\n     <use style=\"fill:#008000;stroke:#000000;\" x=\"280.922692\" xlink:href=\"#m8ef1816272\" y=\"210.135863\"/>\r\n    </g>\r\n   </g>\r\n   <g id=\"PathCollection_4\">\r\n    <defs>\r\n     <path d=\"M 0 3 \r\nC 0.795609 3 1.55874 2.683901 2.12132 2.12132 \r\nC 2.683901 1.55874 3 0.795609 3 0 \r\nC 3 -0.795609 2.683901 -1.55874 2.12132 -2.12132 \r\nC 1.55874 -2.683901 0.795609 -3 0 -3 \r\nC -0.795609 -3 -1.55874 -2.683901 -2.12132 -2.12132 \r\nC -2.683901 -1.55874 -3 -0.795609 -3 0 \r\nC -3 0.795609 -2.683901 1.55874 -2.12132 2.12132 \r\nC -1.55874 2.683901 -0.795609 3 0 3 \r\nz\r\n\" id=\"mc3c511d255\" style=\"stroke:#000000;\"/>\r\n    </defs>\r\n    <g clip-path=\"url(#pb3f6928897)\">\r\n     <use style=\"fill:#800080;stroke:#000000;\" x=\"417.726386\" xlink:href=\"#mc3c511d255\" y=\"418.075697\"/>\r\n     <use style=\"fill:#800080;stroke:#000000;\" x=\"64.49446\" xlink:href=\"#mc3c511d255\" y=\"252.184173\"/>\r\n     <use style=\"fill:#800080;stroke:#000000;\" x=\"368.274964\" xlink:href=\"#mc3c511d255\" y=\"311.813752\"/>\r\n     <use style=\"fill:#800080;stroke:#000000;\" x=\"132.127517\" xlink:href=\"#mc3c511d255\" y=\"208.705083\"/>\r\n     <use style=\"fill:#800080;stroke:#000000;\" x=\"202.301962\" xlink:href=\"#mc3c511d255\" y=\"285.569413\"/>\r\n     <use style=\"fill:#800080;stroke:#000000;\" x=\"521.039915\" xlink:href=\"#mc3c511d255\" y=\"393.599788\"/>\r\n    </g>\r\n   </g>\r\n   <g id=\"matplotlib.axis_1\">\r\n    <g id=\"xtick_1\">\r\n     <g id=\"line2d_1\">\r\n      <defs>\r\n       <path d=\"M 0 0 \r\nL 0 3.5 \r\n\" id=\"m470b382e3f\" style=\"stroke:#000000;stroke-width:0.8;\"/>\r\n      </defs>\r\n      <g>\r\n       <use style=\"stroke:#000000;stroke-width:0.8;\" x=\"104.278458\" xlink:href=\"#m470b382e3f\" y=\"496.44\"/>\r\n      </g>\r\n     </g>\r\n     <g id=\"text_1\">\r\n      <!-- −100 -->\r\n      <g transform=\"translate(90.544864 511.038437)scale(0.1 -0.1)\">\r\n       <defs>\r\n        <path d=\"M 10.59375 35.5 \r\nL 73.1875 35.5 \r\nL 73.1875 27.203125 \r\nL 10.59375 27.203125 \r\nz\r\n\" id=\"DejaVuSans-8722\"/>\r\n        <path d=\"M 12.40625 8.296875 \r\nL 28.515625 8.296875 \r\nL 28.515625 63.921875 \r\nL 10.984375 60.40625 \r\nL 10.984375 69.390625 \r\nL 28.421875 72.90625 \r\nL 38.28125 72.90625 \r\nL 38.28125 8.296875 \r\nL 54.390625 8.296875 \r\nL 54.390625 0 \r\nL 12.40625 0 \r\nz\r\n\" id=\"DejaVuSans-49\"/>\r\n        <path d=\"M 31.78125 66.40625 \r\nQ 24.171875 66.40625 20.328125 58.90625 \r\nQ 16.5 51.421875 16.5 36.375 \r\nQ 16.5 21.390625 20.328125 13.890625 \r\nQ 24.171875 6.390625 31.78125 6.390625 \r\nQ 39.453125 6.390625 43.28125 13.890625 \r\nQ 47.125 21.390625 47.125 36.375 \r\nQ 47.125 51.421875 43.28125 58.90625 \r\nQ 39.453125 66.40625 31.78125 66.40625 \r\nz\r\nM 31.78125 74.21875 \r\nQ 44.046875 74.21875 50.515625 64.515625 \r\nQ 56.984375 54.828125 56.984375 36.375 \r\nQ 56.984375 17.96875 50.515625 8.265625 \r\nQ 44.046875 -1.421875 31.78125 -1.421875 \r\nQ 19.53125 -1.421875 13.0625 8.265625 \r\nQ 6.59375 17.96875 6.59375 36.375 \r\nQ 6.59375 54.828125 13.0625 64.515625 \r\nQ 19.53125 74.21875 31.78125 74.21875 \r\nz\r\n\" id=\"DejaVuSans-48\"/>\r\n       </defs>\r\n       <use xlink:href=\"#DejaVuSans-8722\"/>\r\n       <use x=\"83.789062\" xlink:href=\"#DejaVuSans-49\"/>\r\n       <use x=\"147.412109\" xlink:href=\"#DejaVuSans-48\"/>\r\n       <use x=\"211.035156\" xlink:href=\"#DejaVuSans-48\"/>\r\n      </g>\r\n     </g>\r\n    </g>\r\n    <g id=\"xtick_2\">\r\n     <g id=\"line2d_2\">\r\n      <g>\r\n       <use style=\"stroke:#000000;stroke-width:0.8;\" x=\"167.223735\" xlink:href=\"#m470b382e3f\" y=\"496.44\"/>\r\n      </g>\r\n     </g>\r\n     <g id=\"text_2\">\r\n      <!-- −50 -->\r\n      <g transform=\"translate(156.671392 511.038437)scale(0.1 -0.1)\">\r\n       <defs>\r\n        <path d=\"M 10.796875 72.90625 \r\nL 49.515625 72.90625 \r\nL 49.515625 64.59375 \r\nL 19.828125 64.59375 \r\nL 19.828125 46.734375 \r\nQ 21.96875 47.46875 24.109375 47.828125 \r\nQ 26.265625 48.1875 28.421875 48.1875 \r\nQ 40.625 48.1875 47.75 41.5 \r\nQ 54.890625 34.8125 54.890625 23.390625 \r\nQ 54.890625 11.625 47.5625 5.09375 \r\nQ 40.234375 -1.421875 26.90625 -1.421875 \r\nQ 22.3125 -1.421875 17.546875 -0.640625 \r\nQ 12.796875 0.140625 7.71875 1.703125 \r\nL 7.71875 11.625 \r\nQ 12.109375 9.234375 16.796875 8.0625 \r\nQ 21.484375 6.890625 26.703125 6.890625 \r\nQ 35.15625 6.890625 40.078125 11.328125 \r\nQ 45.015625 15.765625 45.015625 23.390625 \r\nQ 45.015625 31 40.078125 35.4375 \r\nQ 35.15625 39.890625 26.703125 39.890625 \r\nQ 22.75 39.890625 18.8125 39.015625 \r\nQ 14.890625 38.140625 10.796875 36.28125 \r\nz\r\n\" id=\"DejaVuSans-53\"/>\r\n       </defs>\r\n       <use xlink:href=\"#DejaVuSans-8722\"/>\r\n       <use x=\"83.789062\" xlink:href=\"#DejaVuSans-53\"/>\r\n       <use x=\"147.412109\" xlink:href=\"#DejaVuSans-48\"/>\r\n      </g>\r\n     </g>\r\n    </g>\r\n    <g id=\"xtick_3\">\r\n     <g id=\"line2d_3\">\r\n      <g>\r\n       <use style=\"stroke:#000000;stroke-width:0.8;\" x=\"230.169013\" xlink:href=\"#m470b382e3f\" y=\"496.44\"/>\r\n      </g>\r\n     </g>\r\n     <g id=\"text_3\">\r\n      <!-- 0 -->\r\n      <g transform=\"translate(226.987763 511.038437)scale(0.1 -0.1)\">\r\n       <use xlink:href=\"#DejaVuSans-48\"/>\r\n      </g>\r\n     </g>\r\n    </g>\r\n    <g id=\"xtick_4\">\r\n     <g id=\"line2d_4\">\r\n      <g>\r\n       <use style=\"stroke:#000000;stroke-width:0.8;\" x=\"293.114291\" xlink:href=\"#m470b382e3f\" y=\"496.44\"/>\r\n      </g>\r\n     </g>\r\n     <g id=\"text_4\">\r\n      <!-- 50 -->\r\n      <g transform=\"translate(286.751791 511.038437)scale(0.1 -0.1)\">\r\n       <use xlink:href=\"#DejaVuSans-53\"/>\r\n       <use x=\"63.623047\" xlink:href=\"#DejaVuSans-48\"/>\r\n      </g>\r\n     </g>\r\n    </g>\r\n    <g id=\"xtick_5\">\r\n     <g id=\"line2d_5\">\r\n      <g>\r\n       <use style=\"stroke:#000000;stroke-width:0.8;\" x=\"356.059569\" xlink:href=\"#m470b382e3f\" y=\"496.44\"/>\r\n      </g>\r\n     </g>\r\n     <g id=\"text_5\">\r\n      <!-- 100 -->\r\n      <g transform=\"translate(346.515819 511.038437)scale(0.1 -0.1)\">\r\n       <use xlink:href=\"#DejaVuSans-49\"/>\r\n       <use x=\"63.623047\" xlink:href=\"#DejaVuSans-48\"/>\r\n       <use x=\"127.246094\" xlink:href=\"#DejaVuSans-48\"/>\r\n      </g>\r\n     </g>\r\n    </g>\r\n    <g id=\"xtick_6\">\r\n     <g id=\"line2d_6\">\r\n      <g>\r\n       <use style=\"stroke:#000000;stroke-width:0.8;\" x=\"419.004847\" xlink:href=\"#m470b382e3f\" y=\"496.44\"/>\r\n      </g>\r\n     </g>\r\n     <g id=\"text_6\">\r\n      <!-- 150 -->\r\n      <g transform=\"translate(409.461097 511.038437)scale(0.1 -0.1)\">\r\n       <use xlink:href=\"#DejaVuSans-49\"/>\r\n       <use x=\"63.623047\" xlink:href=\"#DejaVuSans-53\"/>\r\n       <use x=\"127.246094\" xlink:href=\"#DejaVuSans-48\"/>\r\n      </g>\r\n     </g>\r\n    </g>\r\n    <g id=\"xtick_7\">\r\n     <g id=\"line2d_7\">\r\n      <g>\r\n       <use style=\"stroke:#000000;stroke-width:0.8;\" x=\"481.950125\" xlink:href=\"#m470b382e3f\" y=\"496.44\"/>\r\n      </g>\r\n     </g>\r\n     <g id=\"text_7\">\r\n      <!-- 200 -->\r\n      <g transform=\"translate(472.406375 511.038437)scale(0.1 -0.1)\">\r\n       <defs>\r\n        <path d=\"M 19.1875 8.296875 \r\nL 53.609375 8.296875 \r\nL 53.609375 0 \r\nL 7.328125 0 \r\nL 7.328125 8.296875 \r\nQ 12.9375 14.109375 22.625 23.890625 \r\nQ 32.328125 33.6875 34.8125 36.53125 \r\nQ 39.546875 41.84375 41.421875 45.53125 \r\nQ 43.3125 49.21875 43.3125 52.78125 \r\nQ 43.3125 58.59375 39.234375 62.25 \r\nQ 35.15625 65.921875 28.609375 65.921875 \r\nQ 23.96875 65.921875 18.8125 64.3125 \r\nQ 13.671875 62.703125 7.8125 59.421875 \r\nL 7.8125 69.390625 \r\nQ 13.765625 71.78125 18.9375 73 \r\nQ 24.125 74.21875 28.421875 74.21875 \r\nQ 39.75 74.21875 46.484375 68.546875 \r\nQ 53.21875 62.890625 53.21875 53.421875 \r\nQ 53.21875 48.921875 51.53125 44.890625 \r\nQ 49.859375 40.875 45.40625 35.40625 \r\nQ 44.1875 33.984375 37.640625 27.21875 \r\nQ 31.109375 20.453125 19.1875 8.296875 \r\nz\r\n\" id=\"DejaVuSans-50\"/>\r\n       </defs>\r\n       <use xlink:href=\"#DejaVuSans-50\"/>\r\n       <use x=\"63.623047\" xlink:href=\"#DejaVuSans-48\"/>\r\n       <use x=\"127.246094\" xlink:href=\"#DejaVuSans-48\"/>\r\n      </g>\r\n     </g>\r\n    </g>\r\n   </g>\r\n   <g id=\"matplotlib.axis_2\">\r\n    <g id=\"ytick_1\">\r\n     <g id=\"line2d_8\">\r\n      <defs>\r\n       <path d=\"M 0 0 \r\nL -3.5 0 \r\n\" id=\"m0a9ebe14ef\" style=\"stroke:#000000;stroke-width:0.8;\"/>\r\n      </defs>\r\n      <g>\r\n       <use style=\"stroke:#000000;stroke-width:0.8;\" x=\"41.667188\" xlink:href=\"#m0a9ebe14ef\" y=\"438.482965\"/>\r\n      </g>\r\n     </g>\r\n     <g id=\"text_8\">\r\n      <!-- −200 -->\r\n      <g transform=\"translate(7.2 442.282184)scale(0.1 -0.1)\">\r\n       <use xlink:href=\"#DejaVuSans-8722\"/>\r\n       <use x=\"83.789062\" xlink:href=\"#DejaVuSans-50\"/>\r\n       <use x=\"147.412109\" xlink:href=\"#DejaVuSans-48\"/>\r\n       <use x=\"211.035156\" xlink:href=\"#DejaVuSans-48\"/>\r\n      </g>\r\n     </g>\r\n    </g>\r\n    <g id=\"ytick_2\">\r\n     <g id=\"line2d_9\">\r\n      <g>\r\n       <use style=\"stroke:#000000;stroke-width:0.8;\" x=\"41.667188\" xlink:href=\"#m0a9ebe14ef\" y=\"358.364669\"/>\r\n      </g>\r\n     </g>\r\n     <g id=\"text_9\">\r\n      <!-- −100 -->\r\n      <g transform=\"translate(7.2 362.163888)scale(0.1 -0.1)\">\r\n       <use xlink:href=\"#DejaVuSans-8722\"/>\r\n       <use x=\"83.789062\" xlink:href=\"#DejaVuSans-49\"/>\r\n       <use x=\"147.412109\" xlink:href=\"#DejaVuSans-48\"/>\r\n       <use x=\"211.035156\" xlink:href=\"#DejaVuSans-48\"/>\r\n      </g>\r\n     </g>\r\n    </g>\r\n    <g id=\"ytick_3\">\r\n     <g id=\"line2d_10\">\r\n      <g>\r\n       <use style=\"stroke:#000000;stroke-width:0.8;\" x=\"41.667188\" xlink:href=\"#m0a9ebe14ef\" y=\"278.246373\"/>\r\n      </g>\r\n     </g>\r\n     <g id=\"text_10\">\r\n      <!-- 0 -->\r\n      <g transform=\"translate(28.304688 282.045591)scale(0.1 -0.1)\">\r\n       <use xlink:href=\"#DejaVuSans-48\"/>\r\n      </g>\r\n     </g>\r\n    </g>\r\n    <g id=\"ytick_4\">\r\n     <g id=\"line2d_11\">\r\n      <g>\r\n       <use style=\"stroke:#000000;stroke-width:0.8;\" x=\"41.667188\" xlink:href=\"#m0a9ebe14ef\" y=\"198.128076\"/>\r\n      </g>\r\n     </g>\r\n     <g id=\"text_11\">\r\n      <!-- 100 -->\r\n      <g transform=\"translate(15.579688 201.927295)scale(0.1 -0.1)\">\r\n       <use xlink:href=\"#DejaVuSans-49\"/>\r\n       <use x=\"63.623047\" xlink:href=\"#DejaVuSans-48\"/>\r\n       <use x=\"127.246094\" xlink:href=\"#DejaVuSans-48\"/>\r\n      </g>\r\n     </g>\r\n    </g>\r\n    <g id=\"ytick_5\">\r\n     <g id=\"line2d_12\">\r\n      <g>\r\n       <use style=\"stroke:#000000;stroke-width:0.8;\" x=\"41.667188\" xlink:href=\"#m0a9ebe14ef\" y=\"118.00978\"/>\r\n      </g>\r\n     </g>\r\n     <g id=\"text_12\">\r\n      <!-- 200 -->\r\n      <g transform=\"translate(15.579688 121.808999)scale(0.1 -0.1)\">\r\n       <use xlink:href=\"#DejaVuSans-50\"/>\r\n       <use x=\"63.623047\" xlink:href=\"#DejaVuSans-48\"/>\r\n       <use x=\"127.246094\" xlink:href=\"#DejaVuSans-48\"/>\r\n      </g>\r\n     </g>\r\n    </g>\r\n    <g id=\"ytick_6\">\r\n     <g id=\"line2d_13\">\r\n      <g>\r\n       <use style=\"stroke:#000000;stroke-width:0.8;\" x=\"41.667188\" xlink:href=\"#m0a9ebe14ef\" y=\"37.891484\"/>\r\n      </g>\r\n     </g>\r\n     <g id=\"text_13\">\r\n      <!-- 300 -->\r\n      <g transform=\"translate(15.579688 41.690702)scale(0.1 -0.1)\">\r\n       <defs>\r\n        <path d=\"M 40.578125 39.3125 \r\nQ 47.65625 37.796875 51.625 33 \r\nQ 55.609375 28.21875 55.609375 21.1875 \r\nQ 55.609375 10.40625 48.1875 4.484375 \r\nQ 40.765625 -1.421875 27.09375 -1.421875 \r\nQ 22.515625 -1.421875 17.65625 -0.515625 \r\nQ 12.796875 0.390625 7.625 2.203125 \r\nL 7.625 11.71875 \r\nQ 11.71875 9.328125 16.59375 8.109375 \r\nQ 21.484375 6.890625 26.8125 6.890625 \r\nQ 36.078125 6.890625 40.9375 10.546875 \r\nQ 45.796875 14.203125 45.796875 21.1875 \r\nQ 45.796875 27.640625 41.28125 31.265625 \r\nQ 36.765625 34.90625 28.71875 34.90625 \r\nL 20.21875 34.90625 \r\nL 20.21875 43.015625 \r\nL 29.109375 43.015625 \r\nQ 36.375 43.015625 40.234375 45.921875 \r\nQ 44.09375 48.828125 44.09375 54.296875 \r\nQ 44.09375 59.90625 40.109375 62.90625 \r\nQ 36.140625 65.921875 28.71875 65.921875 \r\nQ 24.65625 65.921875 20.015625 65.03125 \r\nQ 15.375 64.15625 9.8125 62.3125 \r\nL 9.8125 71.09375 \r\nQ 15.4375 72.65625 20.34375 73.4375 \r\nQ 25.25 74.21875 29.59375 74.21875 \r\nQ 40.828125 74.21875 47.359375 69.109375 \r\nQ 53.90625 64.015625 53.90625 55.328125 \r\nQ 53.90625 49.265625 50.4375 45.09375 \r\nQ 46.96875 40.921875 40.578125 39.3125 \r\nz\r\n\" id=\"DejaVuSans-51\"/>\r\n       </defs>\r\n       <use xlink:href=\"#DejaVuSans-51\"/>\r\n       <use x=\"63.623047\" xlink:href=\"#DejaVuSans-48\"/>\r\n       <use x=\"127.246094\" xlink:href=\"#DejaVuSans-48\"/>\r\n      </g>\r\n     </g>\r\n    </g>\r\n   </g>\r\n   <g id=\"patch_3\">\r\n    <path d=\"M 41.667188 496.44 \r\nL 41.667188 7.2 \r\n\" style=\"fill:none;stroke:#000000;stroke-linecap:square;stroke-linejoin:miter;stroke-width:0.8;\"/>\r\n   </g>\r\n   <g id=\"patch_4\">\r\n    <path d=\"M 543.867188 496.44 \r\nL 543.867188 7.2 \r\n\" style=\"fill:none;stroke:#000000;stroke-linecap:square;stroke-linejoin:miter;stroke-width:0.8;\"/>\r\n   </g>\r\n   <g id=\"patch_5\">\r\n    <path d=\"M 41.667188 496.44 \r\nL 543.867188 496.44 \r\n\" style=\"fill:none;stroke:#000000;stroke-linecap:square;stroke-linejoin:miter;stroke-width:0.8;\"/>\r\n   </g>\r\n   <g id=\"patch_6\">\r\n    <path d=\"M 41.667188 7.2 \r\nL 543.867188 7.2 \r\n\" style=\"fill:none;stroke:#000000;stroke-linecap:square;stroke-linejoin:miter;stroke-width:0.8;\"/>\r\n   </g>\r\n   <g id=\"text_14\">\r\n    <!-- citizens -->\r\n    <g transform=\"translate(318.402174 473.400635)scale(0.1 -0.1)\">\r\n     <defs>\r\n      <path d=\"M 48.78125 52.59375 \r\nL 48.78125 44.1875 \r\nQ 44.96875 46.296875 41.140625 47.34375 \r\nQ 37.3125 48.390625 33.40625 48.390625 \r\nQ 24.65625 48.390625 19.8125 42.84375 \r\nQ 14.984375 37.3125 14.984375 27.296875 \r\nQ 14.984375 17.28125 19.8125 11.734375 \r\nQ 24.65625 6.203125 33.40625 6.203125 \r\nQ 37.3125 6.203125 41.140625 7.25 \r\nQ 44.96875 8.296875 48.78125 10.40625 \r\nL 48.78125 2.09375 \r\nQ 45.015625 0.34375 40.984375 -0.53125 \r\nQ 36.96875 -1.421875 32.421875 -1.421875 \r\nQ 20.0625 -1.421875 12.78125 6.34375 \r\nQ 5.515625 14.109375 5.515625 27.296875 \r\nQ 5.515625 40.671875 12.859375 48.328125 \r\nQ 20.21875 56 33.015625 56 \r\nQ 37.15625 56 41.109375 55.140625 \r\nQ 45.0625 54.296875 48.78125 52.59375 \r\nz\r\n\" id=\"DejaVuSans-99\"/>\r\n      <path d=\"M 9.421875 54.6875 \r\nL 18.40625 54.6875 \r\nL 18.40625 0 \r\nL 9.421875 0 \r\nz\r\nM 9.421875 75.984375 \r\nL 18.40625 75.984375 \r\nL 18.40625 64.59375 \r\nL 9.421875 64.59375 \r\nz\r\n\" id=\"DejaVuSans-105\"/>\r\n      <path d=\"M 18.3125 70.21875 \r\nL 18.3125 54.6875 \r\nL 36.8125 54.6875 \r\nL 36.8125 47.703125 \r\nL 18.3125 47.703125 \r\nL 18.3125 18.015625 \r\nQ 18.3125 11.328125 20.140625 9.421875 \r\nQ 21.96875 7.515625 27.59375 7.515625 \r\nL 36.8125 7.515625 \r\nL 36.8125 0 \r\nL 27.59375 0 \r\nQ 17.1875 0 13.234375 3.875 \r\nQ 9.28125 7.765625 9.28125 18.015625 \r\nL 9.28125 47.703125 \r\nL 2.6875 47.703125 \r\nL 2.6875 54.6875 \r\nL 9.28125 54.6875 \r\nL 9.28125 70.21875 \r\nz\r\n\" id=\"DejaVuSans-116\"/>\r\n      <path d=\"M 5.515625 54.6875 \r\nL 48.1875 54.6875 \r\nL 48.1875 46.484375 \r\nL 14.40625 7.171875 \r\nL 48.1875 7.171875 \r\nL 48.1875 0 \r\nL 4.296875 0 \r\nL 4.296875 8.203125 \r\nL 38.09375 47.515625 \r\nL 5.515625 47.515625 \r\nz\r\n\" id=\"DejaVuSans-122\"/>\r\n      <path d=\"M 56.203125 29.59375 \r\nL 56.203125 25.203125 \r\nL 14.890625 25.203125 \r\nQ 15.484375 15.921875 20.484375 11.0625 \r\nQ 25.484375 6.203125 34.421875 6.203125 \r\nQ 39.59375 6.203125 44.453125 7.46875 \r\nQ 49.3125 8.734375 54.109375 11.28125 \r\nL 54.109375 2.78125 \r\nQ 49.265625 0.734375 44.1875 -0.34375 \r\nQ 39.109375 -1.421875 33.890625 -1.421875 \r\nQ 20.796875 -1.421875 13.15625 6.1875 \r\nQ 5.515625 13.8125 5.515625 26.8125 \r\nQ 5.515625 40.234375 12.765625 48.109375 \r\nQ 20.015625 56 32.328125 56 \r\nQ 43.359375 56 49.78125 48.890625 \r\nQ 56.203125 41.796875 56.203125 29.59375 \r\nz\r\nM 47.21875 32.234375 \r\nQ 47.125 39.59375 43.09375 43.984375 \r\nQ 39.0625 48.390625 32.421875 48.390625 \r\nQ 24.90625 48.390625 20.390625 44.140625 \r\nQ 15.875 39.890625 15.1875 32.171875 \r\nz\r\n\" id=\"DejaVuSans-101\"/>\r\n      <path d=\"M 54.890625 33.015625 \r\nL 54.890625 0 \r\nL 45.90625 0 \r\nL 45.90625 32.71875 \r\nQ 45.90625 40.484375 42.875 44.328125 \r\nQ 39.84375 48.1875 33.796875 48.1875 \r\nQ 26.515625 48.1875 22.3125 43.546875 \r\nQ 18.109375 38.921875 18.109375 30.90625 \r\nL 18.109375 0 \r\nL 9.078125 0 \r\nL 9.078125 54.6875 \r\nL 18.109375 54.6875 \r\nL 18.109375 46.1875 \r\nQ 21.34375 51.125 25.703125 53.5625 \r\nQ 30.078125 56 35.796875 56 \r\nQ 45.21875 56 50.046875 50.171875 \r\nQ 54.890625 44.34375 54.890625 33.015625 \r\nz\r\n\" id=\"DejaVuSans-110\"/>\r\n      <path d=\"M 44.28125 53.078125 \r\nL 44.28125 44.578125 \r\nQ 40.484375 46.53125 36.375 47.5 \r\nQ 32.28125 48.484375 27.875 48.484375 \r\nQ 21.1875 48.484375 17.84375 46.4375 \r\nQ 14.5 44.390625 14.5 40.28125 \r\nQ 14.5 37.15625 16.890625 35.375 \r\nQ 19.28125 33.59375 26.515625 31.984375 \r\nL 29.59375 31.296875 \r\nQ 39.15625 29.25 43.1875 25.515625 \r\nQ 47.21875 21.78125 47.21875 15.09375 \r\nQ 47.21875 7.46875 41.1875 3.015625 \r\nQ 35.15625 -1.421875 24.609375 -1.421875 \r\nQ 20.21875 -1.421875 15.453125 -0.5625 \r\nQ 10.6875 0.296875 5.421875 2 \r\nL 5.421875 11.28125 \r\nQ 10.40625 8.6875 15.234375 7.390625 \r\nQ 20.0625 6.109375 24.8125 6.109375 \r\nQ 31.15625 6.109375 34.5625 8.28125 \r\nQ 37.984375 10.453125 37.984375 14.40625 \r\nQ 37.984375 18.0625 35.515625 20.015625 \r\nQ 33.0625 21.96875 24.703125 23.78125 \r\nL 21.578125 24.515625 \r\nQ 13.234375 26.265625 9.515625 29.90625 \r\nQ 5.8125 33.546875 5.8125 39.890625 \r\nQ 5.8125 47.609375 11.28125 51.796875 \r\nQ 16.75 56 26.8125 56 \r\nQ 31.78125 56 36.171875 55.265625 \r\nQ 40.578125 54.546875 44.28125 53.078125 \r\nz\r\n\" id=\"DejaVuSans-115\"/>\r\n     </defs>\r\n     <use xlink:href=\"#DejaVuSans-99\"/>\r\n     <use x=\"54.980469\" xlink:href=\"#DejaVuSans-105\"/>\r\n     <use x=\"82.763672\" xlink:href=\"#DejaVuSans-116\"/>\r\n     <use x=\"121.972656\" xlink:href=\"#DejaVuSans-105\"/>\r\n     <use x=\"149.755859\" xlink:href=\"#DejaVuSans-122\"/>\r\n     <use x=\"202.246094\" xlink:href=\"#DejaVuSans-101\"/>\r\n     <use x=\"263.769531\" xlink:href=\"#DejaVuSans-110\"/>\r\n     <use x=\"327.148438\" xlink:href=\"#DejaVuSans-115\"/>\r\n    </g>\r\n   </g>\r\n   <g id=\"text_15\">\r\n    <!-- institutions -->\r\n    <g transform=\"translate(169.882937 378.387617)scale(0.1 -0.1)\">\r\n     <defs>\r\n      <path d=\"M 8.5 21.578125 \r\nL 8.5 54.6875 \r\nL 17.484375 54.6875 \r\nL 17.484375 21.921875 \r\nQ 17.484375 14.15625 20.5 10.265625 \r\nQ 23.53125 6.390625 29.59375 6.390625 \r\nQ 36.859375 6.390625 41.078125 11.03125 \r\nQ 45.3125 15.671875 45.3125 23.6875 \r\nL 45.3125 54.6875 \r\nL 54.296875 54.6875 \r\nL 54.296875 0 \r\nL 45.3125 0 \r\nL 45.3125 8.40625 \r\nQ 42.046875 3.421875 37.71875 1 \r\nQ 33.40625 -1.421875 27.6875 -1.421875 \r\nQ 18.265625 -1.421875 13.375 4.4375 \r\nQ 8.5 10.296875 8.5 21.578125 \r\nz\r\nM 31.109375 56 \r\nz\r\n\" id=\"DejaVuSans-117\"/>\r\n      <path d=\"M 30.609375 48.390625 \r\nQ 23.390625 48.390625 19.1875 42.75 \r\nQ 14.984375 37.109375 14.984375 27.296875 \r\nQ 14.984375 17.484375 19.15625 11.84375 \r\nQ 23.34375 6.203125 30.609375 6.203125 \r\nQ 37.796875 6.203125 41.984375 11.859375 \r\nQ 46.1875 17.53125 46.1875 27.296875 \r\nQ 46.1875 37.015625 41.984375 42.703125 \r\nQ 37.796875 48.390625 30.609375 48.390625 \r\nz\r\nM 30.609375 56 \r\nQ 42.328125 56 49.015625 48.375 \r\nQ 55.71875 40.765625 55.71875 27.296875 \r\nQ 55.71875 13.875 49.015625 6.21875 \r\nQ 42.328125 -1.421875 30.609375 -1.421875 \r\nQ 18.84375 -1.421875 12.171875 6.21875 \r\nQ 5.515625 13.875 5.515625 27.296875 \r\nQ 5.515625 40.765625 12.171875 48.375 \r\nQ 18.84375 56 30.609375 56 \r\nz\r\n\" id=\"DejaVuSans-111\"/>\r\n     </defs>\r\n     <use xlink:href=\"#DejaVuSans-105\"/>\r\n     <use x=\"27.783203\" xlink:href=\"#DejaVuSans-110\"/>\r\n     <use x=\"91.162109\" xlink:href=\"#DejaVuSans-115\"/>\r\n     <use x=\"143.261719\" xlink:href=\"#DejaVuSans-116\"/>\r\n     <use x=\"182.470703\" xlink:href=\"#DejaVuSans-105\"/>\r\n     <use x=\"210.253906\" xlink:href=\"#DejaVuSans-116\"/>\r\n     <use x=\"249.462891\" xlink:href=\"#DejaVuSans-117\"/>\r\n     <use x=\"312.841797\" xlink:href=\"#DejaVuSans-116\"/>\r\n     <use x=\"352.050781\" xlink:href=\"#DejaVuSans-105\"/>\r\n     <use x=\"379.833984\" xlink:href=\"#DejaVuSans-111\"/>\r\n     <use x=\"441.015625\" xlink:href=\"#DejaVuSans-110\"/>\r\n     <use x=\"504.394531\" xlink:href=\"#DejaVuSans-115\"/>\r\n    </g>\r\n   </g>\r\n   <g id=\"text_16\">\r\n    <!-- peoples -->\r\n    <g transform=\"translate(274.174309 161.664569)scale(0.1 -0.1)\">\r\n     <defs>\r\n      <path d=\"M 18.109375 8.203125 \r\nL 18.109375 -20.796875 \r\nL 9.078125 -20.796875 \r\nL 9.078125 54.6875 \r\nL 18.109375 54.6875 \r\nL 18.109375 46.390625 \r\nQ 20.953125 51.265625 25.265625 53.625 \r\nQ 29.59375 56 35.59375 56 \r\nQ 45.5625 56 51.78125 48.09375 \r\nQ 58.015625 40.1875 58.015625 27.296875 \r\nQ 58.015625 14.40625 51.78125 6.484375 \r\nQ 45.5625 -1.421875 35.59375 -1.421875 \r\nQ 29.59375 -1.421875 25.265625 0.953125 \r\nQ 20.953125 3.328125 18.109375 8.203125 \r\nz\r\nM 48.6875 27.296875 \r\nQ 48.6875 37.203125 44.609375 42.84375 \r\nQ 40.53125 48.484375 33.40625 48.484375 \r\nQ 26.265625 48.484375 22.1875 42.84375 \r\nQ 18.109375 37.203125 18.109375 27.296875 \r\nQ 18.109375 17.390625 22.1875 11.75 \r\nQ 26.265625 6.109375 33.40625 6.109375 \r\nQ 40.53125 6.109375 44.609375 11.75 \r\nQ 48.6875 17.390625 48.6875 27.296875 \r\nz\r\n\" id=\"DejaVuSans-112\"/>\r\n      <path d=\"M 9.421875 75.984375 \r\nL 18.40625 75.984375 \r\nL 18.40625 0 \r\nL 9.421875 0 \r\nz\r\n\" id=\"DejaVuSans-108\"/>\r\n     </defs>\r\n     <use xlink:href=\"#DejaVuSans-112\"/>\r\n     <use x=\"63.476562\" xlink:href=\"#DejaVuSans-101\"/>\r\n     <use x=\"125\" xlink:href=\"#DejaVuSans-111\"/>\r\n     <use x=\"186.181641\" xlink:href=\"#DejaVuSans-112\"/>\r\n     <use x=\"249.658203\" xlink:href=\"#DejaVuSans-108\"/>\r\n     <use x=\"277.441406\" xlink:href=\"#DejaVuSans-101\"/>\r\n     <use x=\"338.964844\" xlink:href=\"#DejaVuSans-115\"/>\r\n    </g>\r\n   </g>\r\n   <g id=\"text_17\">\r\n    <!-- governments -->\r\n    <g transform=\"translate(175.7484 88.642859)scale(0.1 -0.1)\">\r\n     <defs>\r\n      <path d=\"M 45.40625 27.984375 \r\nQ 45.40625 37.75 41.375 43.109375 \r\nQ 37.359375 48.484375 30.078125 48.484375 \r\nQ 22.859375 48.484375 18.828125 43.109375 \r\nQ 14.796875 37.75 14.796875 27.984375 \r\nQ 14.796875 18.265625 18.828125 12.890625 \r\nQ 22.859375 7.515625 30.078125 7.515625 \r\nQ 37.359375 7.515625 41.375 12.890625 \r\nQ 45.40625 18.265625 45.40625 27.984375 \r\nz\r\nM 54.390625 6.78125 \r\nQ 54.390625 -7.171875 48.1875 -13.984375 \r\nQ 42 -20.796875 29.203125 -20.796875 \r\nQ 24.46875 -20.796875 20.265625 -20.09375 \r\nQ 16.0625 -19.390625 12.109375 -17.921875 \r\nL 12.109375 -9.1875 \r\nQ 16.0625 -11.328125 19.921875 -12.34375 \r\nQ 23.78125 -13.375 27.78125 -13.375 \r\nQ 36.625 -13.375 41.015625 -8.765625 \r\nQ 45.40625 -4.15625 45.40625 5.171875 \r\nL 45.40625 9.625 \r\nQ 42.625 4.78125 38.28125 2.390625 \r\nQ 33.9375 0 27.875 0 \r\nQ 17.828125 0 11.671875 7.65625 \r\nQ 5.515625 15.328125 5.515625 27.984375 \r\nQ 5.515625 40.671875 11.671875 48.328125 \r\nQ 17.828125 56 27.875 56 \r\nQ 33.9375 56 38.28125 53.609375 \r\nQ 42.625 51.21875 45.40625 46.390625 \r\nL 45.40625 54.6875 \r\nL 54.390625 54.6875 \r\nz\r\n\" id=\"DejaVuSans-103\"/>\r\n      <path d=\"M 2.984375 54.6875 \r\nL 12.5 54.6875 \r\nL 29.59375 8.796875 \r\nL 46.6875 54.6875 \r\nL 56.203125 54.6875 \r\nL 35.6875 0 \r\nL 23.484375 0 \r\nz\r\n\" id=\"DejaVuSans-118\"/>\r\n      <path d=\"M 41.109375 46.296875 \r\nQ 39.59375 47.171875 37.8125 47.578125 \r\nQ 36.03125 48 33.890625 48 \r\nQ 26.265625 48 22.1875 43.046875 \r\nQ 18.109375 38.09375 18.109375 28.8125 \r\nL 18.109375 0 \r\nL 9.078125 0 \r\nL 9.078125 54.6875 \r\nL 18.109375 54.6875 \r\nL 18.109375 46.1875 \r\nQ 20.953125 51.171875 25.484375 53.578125 \r\nQ 30.03125 56 36.53125 56 \r\nQ 37.453125 56 38.578125 55.875 \r\nQ 39.703125 55.765625 41.0625 55.515625 \r\nz\r\n\" id=\"DejaVuSans-114\"/>\r\n      <path d=\"M 52 44.1875 \r\nQ 55.375 50.25 60.0625 53.125 \r\nQ 64.75 56 71.09375 56 \r\nQ 79.640625 56 84.28125 50.015625 \r\nQ 88.921875 44.046875 88.921875 33.015625 \r\nL 88.921875 0 \r\nL 79.890625 0 \r\nL 79.890625 32.71875 \r\nQ 79.890625 40.578125 77.09375 44.375 \r\nQ 74.3125 48.1875 68.609375 48.1875 \r\nQ 61.625 48.1875 57.5625 43.546875 \r\nQ 53.515625 38.921875 53.515625 30.90625 \r\nL 53.515625 0 \r\nL 44.484375 0 \r\nL 44.484375 32.71875 \r\nQ 44.484375 40.625 41.703125 44.40625 \r\nQ 38.921875 48.1875 33.109375 48.1875 \r\nQ 26.21875 48.1875 22.15625 43.53125 \r\nQ 18.109375 38.875 18.109375 30.90625 \r\nL 18.109375 0 \r\nL 9.078125 0 \r\nL 9.078125 54.6875 \r\nL 18.109375 54.6875 \r\nL 18.109375 46.1875 \r\nQ 21.1875 51.21875 25.484375 53.609375 \r\nQ 29.78125 56 35.6875 56 \r\nQ 41.65625 56 45.828125 52.96875 \r\nQ 50 49.953125 52 44.1875 \r\nz\r\n\" id=\"DejaVuSans-109\"/>\r\n     </defs>\r\n     <use xlink:href=\"#DejaVuSans-103\"/>\r\n     <use x=\"63.476562\" xlink:href=\"#DejaVuSans-111\"/>\r\n     <use x=\"124.658203\" xlink:href=\"#DejaVuSans-118\"/>\r\n     <use x=\"183.837891\" xlink:href=\"#DejaVuSans-101\"/>\r\n     <use x=\"245.361328\" xlink:href=\"#DejaVuSans-114\"/>\r\n     <use x=\"284.724609\" xlink:href=\"#DejaVuSans-110\"/>\r\n     <use x=\"348.103516\" xlink:href=\"#DejaVuSans-109\"/>\r\n     <use x=\"445.515625\" xlink:href=\"#DejaVuSans-101\"/>\r\n     <use x=\"507.039062\" xlink:href=\"#DejaVuSans-110\"/>\r\n     <use x=\"570.417969\" xlink:href=\"#DejaVuSans-116\"/>\r\n     <use x=\"609.626953\" xlink:href=\"#DejaVuSans-115\"/>\r\n    </g>\r\n   </g>\r\n   <g id=\"text_18\">\r\n    <!-- economic -->\r\n    <g transform=\"translate(323.630678 377.961328)scale(0.1 -0.1)\">\r\n     <use xlink:href=\"#DejaVuSans-101\"/>\r\n     <use x=\"61.523438\" xlink:href=\"#DejaVuSans-99\"/>\r\n     <use x=\"116.503906\" xlink:href=\"#DejaVuSans-111\"/>\r\n     <use x=\"177.685547\" xlink:href=\"#DejaVuSans-110\"/>\r\n     <use x=\"241.064453\" xlink:href=\"#DejaVuSans-111\"/>\r\n     <use x=\"302.246094\" xlink:href=\"#DejaVuSans-109\"/>\r\n     <use x=\"399.658203\" xlink:href=\"#DejaVuSans-105\"/>\r\n     <use x=\"427.441406\" xlink:href=\"#DejaVuSans-99\"/>\r\n    </g>\r\n   </g>\r\n   <g id=\"text_19\">\r\n    <!-- attempt -->\r\n    <g transform=\"translate(405.055403 234.872293)scale(0.1 -0.1)\">\r\n     <defs>\r\n      <path d=\"M 34.28125 27.484375 \r\nQ 23.390625 27.484375 19.1875 25 \r\nQ 14.984375 22.515625 14.984375 16.5 \r\nQ 14.984375 11.71875 18.140625 8.90625 \r\nQ 21.296875 6.109375 26.703125 6.109375 \r\nQ 34.1875 6.109375 38.703125 11.40625 \r\nQ 43.21875 16.703125 43.21875 25.484375 \r\nL 43.21875 27.484375 \r\nz\r\nM 52.203125 31.203125 \r\nL 52.203125 0 \r\nL 43.21875 0 \r\nL 43.21875 8.296875 \r\nQ 40.140625 3.328125 35.546875 0.953125 \r\nQ 30.953125 -1.421875 24.3125 -1.421875 \r\nQ 15.921875 -1.421875 10.953125 3.296875 \r\nQ 6 8.015625 6 15.921875 \r\nQ 6 25.140625 12.171875 29.828125 \r\nQ 18.359375 34.515625 30.609375 34.515625 \r\nL 43.21875 34.515625 \r\nL 43.21875 35.40625 \r\nQ 43.21875 41.609375 39.140625 45 \r\nQ 35.0625 48.390625 27.6875 48.390625 \r\nQ 23 48.390625 18.546875 47.265625 \r\nQ 14.109375 46.140625 10.015625 43.890625 \r\nL 10.015625 52.203125 \r\nQ 14.9375 54.109375 19.578125 55.046875 \r\nQ 24.21875 56 28.609375 56 \r\nQ 40.484375 56 46.34375 49.84375 \r\nQ 52.203125 43.703125 52.203125 31.203125 \r\nz\r\n\" id=\"DejaVuSans-97\"/>\r\n     </defs>\r\n     <use xlink:href=\"#DejaVuSans-97\"/>\r\n     <use x=\"61.279297\" xlink:href=\"#DejaVuSans-116\"/>\r\n     <use x=\"100.488281\" xlink:href=\"#DejaVuSans-116\"/>\r\n     <use x=\"139.697266\" xlink:href=\"#DejaVuSans-101\"/>\r\n     <use x=\"201.220703\" xlink:href=\"#DejaVuSans-109\"/>\r\n     <use x=\"298.632812\" xlink:href=\"#DejaVuSans-112\"/>\r\n     <use x=\"362.109375\" xlink:href=\"#DejaVuSans-116\"/>\r\n    </g>\r\n   </g>\r\n   <g id=\"text_20\">\r\n    <!-- life -->\r\n    <g transform=\"translate(421.6305 57.178604)scale(0.1 -0.1)\">\r\n     <defs>\r\n      <path d=\"M 37.109375 75.984375 \r\nL 37.109375 68.5 \r\nL 28.515625 68.5 \r\nQ 23.6875 68.5 21.796875 66.546875 \r\nQ 19.921875 64.59375 19.921875 59.515625 \r\nL 19.921875 54.6875 \r\nL 34.71875 54.6875 \r\nL 34.71875 47.703125 \r\nL 19.921875 47.703125 \r\nL 19.921875 0 \r\nL 10.890625 0 \r\nL 10.890625 47.703125 \r\nL 2.296875 47.703125 \r\nL 2.296875 54.6875 \r\nL 10.890625 54.6875 \r\nL 10.890625 58.5 \r\nQ 10.890625 67.625 15.140625 71.796875 \r\nQ 19.390625 75.984375 28.609375 75.984375 \r\nz\r\n\" id=\"DejaVuSans-102\"/>\r\n     </defs>\r\n     <use xlink:href=\"#DejaVuSans-108\"/>\r\n     <use x=\"27.783203\" xlink:href=\"#DejaVuSans-105\"/>\r\n     <use x=\"55.566406\" xlink:href=\"#DejaVuSans-102\"/>\r\n     <use x=\"90.771484\" xlink:href=\"#DejaVuSans-101\"/>\r\n    </g>\r\n   </g>\r\n   <g id=\"text_21\">\r\n    <!-- degree -->\r\n    <g transform=\"translate(482.992541 242.636784)scale(0.1 -0.1)\">\r\n     <defs>\r\n      <path d=\"M 45.40625 46.390625 \r\nL 45.40625 75.984375 \r\nL 54.390625 75.984375 \r\nL 54.390625 0 \r\nL 45.40625 0 \r\nL 45.40625 8.203125 \r\nQ 42.578125 3.328125 38.25 0.953125 \r\nQ 33.9375 -1.421875 27.875 -1.421875 \r\nQ 17.96875 -1.421875 11.734375 6.484375 \r\nQ 5.515625 14.40625 5.515625 27.296875 \r\nQ 5.515625 40.1875 11.734375 48.09375 \r\nQ 17.96875 56 27.875 56 \r\nQ 33.9375 56 38.25 53.625 \r\nQ 42.578125 51.265625 45.40625 46.390625 \r\nz\r\nM 14.796875 27.296875 \r\nQ 14.796875 17.390625 18.875 11.75 \r\nQ 22.953125 6.109375 30.078125 6.109375 \r\nQ 37.203125 6.109375 41.296875 11.75 \r\nQ 45.40625 17.390625 45.40625 27.296875 \r\nQ 45.40625 37.203125 41.296875 42.84375 \r\nQ 37.203125 48.484375 30.078125 48.484375 \r\nQ 22.953125 48.484375 18.875 42.84375 \r\nQ 14.796875 37.203125 14.796875 27.296875 \r\nz\r\n\" id=\"DejaVuSans-100\"/>\r\n     </defs>\r\n     <use xlink:href=\"#DejaVuSans-100\"/>\r\n     <use x=\"63.476562\" xlink:href=\"#DejaVuSans-101\"/>\r\n     <use x=\"125\" xlink:href=\"#DejaVuSans-103\"/>\r\n     <use x=\"188.476562\" xlink:href=\"#DejaVuSans-114\"/>\r\n     <use x=\"227.339844\" xlink:href=\"#DejaVuSans-101\"/>\r\n     <use x=\"288.863281\" xlink:href=\"#DejaVuSans-101\"/>\r\n    </g>\r\n   </g>\r\n   <g id=\"text_22\">\r\n    <!-- effort -->\r\n    <g transform=\"translate(340.951684 70.936956)scale(0.1 -0.1)\">\r\n     <use xlink:href=\"#DejaVuSans-101\"/>\r\n     <use x=\"61.523438\" xlink:href=\"#DejaVuSans-102\"/>\r\n     <use x=\"96.728516\" xlink:href=\"#DejaVuSans-102\"/>\r\n     <use x=\"131.933594\" xlink:href=\"#DejaVuSans-111\"/>\r\n     <use x=\"193.115234\" xlink:href=\"#DejaVuSans-114\"/>\r\n     <use x=\"234.228516\" xlink:href=\"#DejaVuSans-116\"/>\r\n    </g>\r\n   </g>\r\n   <g id=\"text_23\">\r\n    <!-- opinion -->\r\n    <g transform=\"translate(234.826012 28.636999)scale(0.1 -0.1)\">\r\n     <use xlink:href=\"#DejaVuSans-111\"/>\r\n     <use x=\"61.181641\" xlink:href=\"#DejaVuSans-112\"/>\r\n     <use x=\"124.658203\" xlink:href=\"#DejaVuSans-105\"/>\r\n     <use x=\"152.441406\" xlink:href=\"#DejaVuSans-110\"/>\r\n     <use x=\"215.820312\" xlink:href=\"#DejaVuSans-105\"/>\r\n     <use x=\"243.603516\" xlink:href=\"#DejaVuSans-111\"/>\r\n     <use x=\"304.785156\" xlink:href=\"#DejaVuSans-110\"/>\r\n    </g>\r\n   </g>\r\n   <g id=\"text_24\">\r\n    <!-- legislature -->\r\n    <g transform=\"translate(252.559093 79.967721)scale(0.1 -0.1)\">\r\n     <use xlink:href=\"#DejaVuSans-108\"/>\r\n     <use x=\"27.783203\" xlink:href=\"#DejaVuSans-101\"/>\r\n     <use x=\"89.306641\" xlink:href=\"#DejaVuSans-103\"/>\r\n     <use x=\"152.783203\" xlink:href=\"#DejaVuSans-105\"/>\r\n     <use x=\"180.566406\" xlink:href=\"#DejaVuSans-115\"/>\r\n     <use x=\"232.666016\" xlink:href=\"#DejaVuSans-108\"/>\r\n     <use x=\"260.449219\" xlink:href=\"#DejaVuSans-97\"/>\r\n     <use x=\"321.728516\" xlink:href=\"#DejaVuSans-116\"/>\r\n     <use x=\"360.9375\" xlink:href=\"#DejaVuSans-117\"/>\r\n     <use x=\"424.316406\" xlink:href=\"#DejaVuSans-114\"/>\r\n     <use x=\"463.179688\" xlink:href=\"#DejaVuSans-101\"/>\r\n    </g>\r\n   </g>\r\n   <g id=\"text_25\">\r\n    <!-- highest -->\r\n    <g transform=\"translate(405.707465 180.18764)scale(0.1 -0.1)\">\r\n     <defs>\r\n      <path d=\"M 54.890625 33.015625 \r\nL 54.890625 0 \r\nL 45.90625 0 \r\nL 45.90625 32.71875 \r\nQ 45.90625 40.484375 42.875 44.328125 \r\nQ 39.84375 48.1875 33.796875 48.1875 \r\nQ 26.515625 48.1875 22.3125 43.546875 \r\nQ 18.109375 38.921875 18.109375 30.90625 \r\nL 18.109375 0 \r\nL 9.078125 0 \r\nL 9.078125 75.984375 \r\nL 18.109375 75.984375 \r\nL 18.109375 46.1875 \r\nQ 21.34375 51.125 25.703125 53.5625 \r\nQ 30.078125 56 35.796875 56 \r\nQ 45.21875 56 50.046875 50.171875 \r\nQ 54.890625 44.34375 54.890625 33.015625 \r\nz\r\n\" id=\"DejaVuSans-104\"/>\r\n     </defs>\r\n     <use xlink:href=\"#DejaVuSans-104\"/>\r\n     <use x=\"63.378906\" xlink:href=\"#DejaVuSans-105\"/>\r\n     <use x=\"91.162109\" xlink:href=\"#DejaVuSans-103\"/>\r\n     <use x=\"154.638672\" xlink:href=\"#DejaVuSans-104\"/>\r\n     <use x=\"218.017578\" xlink:href=\"#DejaVuSans-101\"/>\r\n     <use x=\"279.541016\" xlink:href=\"#DejaVuSans-115\"/>\r\n     <use x=\"331.640625\" xlink:href=\"#DejaVuSans-116\"/>\r\n    </g>\r\n   </g>\r\n   <g id=\"text_26\">\r\n    <!-- senate -->\r\n    <g transform=\"translate(466.15272 340.402992)scale(0.1 -0.1)\">\r\n     <use xlink:href=\"#DejaVuSans-115\"/>\r\n     <use x=\"52.099609\" xlink:href=\"#DejaVuSans-101\"/>\r\n     <use x=\"113.623047\" xlink:href=\"#DejaVuSans-110\"/>\r\n     <use x=\"177.001953\" xlink:href=\"#DejaVuSans-97\"/>\r\n     <use x=\"238.28125\" xlink:href=\"#DejaVuSans-116\"/>\r\n     <use x=\"277.490234\" xlink:href=\"#DejaVuSans-101\"/>\r\n    </g>\r\n   </g>\r\n   <g id=\"text_27\">\r\n    <!-- presently -->\r\n    <g transform=\"translate(319.28934 255.816987)scale(0.1 -0.1)\">\r\n     <defs>\r\n      <path d=\"M 32.171875 -5.078125 \r\nQ 28.375 -14.84375 24.75 -17.8125 \r\nQ 21.140625 -20.796875 15.09375 -20.796875 \r\nL 7.90625 -20.796875 \r\nL 7.90625 -13.28125 \r\nL 13.1875 -13.28125 \r\nQ 16.890625 -13.28125 18.9375 -11.515625 \r\nQ 21 -9.765625 23.484375 -3.21875 \r\nL 25.09375 0.875 \r\nL 2.984375 54.6875 \r\nL 12.5 54.6875 \r\nL 29.59375 11.921875 \r\nL 46.6875 54.6875 \r\nL 56.203125 54.6875 \r\nz\r\n\" id=\"DejaVuSans-121\"/>\r\n     </defs>\r\n     <use xlink:href=\"#DejaVuSans-112\"/>\r\n     <use x=\"63.476562\" xlink:href=\"#DejaVuSans-114\"/>\r\n     <use x=\"102.339844\" xlink:href=\"#DejaVuSans-101\"/>\r\n     <use x=\"163.863281\" xlink:href=\"#DejaVuSans-115\"/>\r\n     <use x=\"215.962891\" xlink:href=\"#DejaVuSans-101\"/>\r\n     <use x=\"277.486328\" xlink:href=\"#DejaVuSans-110\"/>\r\n     <use x=\"340.865234\" xlink:href=\"#DejaVuSans-116\"/>\r\n     <use x=\"380.074219\" xlink:href=\"#DejaVuSans-108\"/>\r\n     <use x=\"407.857422\" xlink:href=\"#DejaVuSans-121\"/>\r\n    </g>\r\n   </g>\r\n   <g id=\"text_28\">\r\n    <!-- disapproved -->\r\n    <g transform=\"translate(409.320076 367.93126)scale(0.1 -0.1)\">\r\n     <use xlink:href=\"#DejaVuSans-100\"/>\r\n     <use x=\"63.476562\" xlink:href=\"#DejaVuSans-105\"/>\r\n     <use x=\"91.259766\" xlink:href=\"#DejaVuSans-115\"/>\r\n     <use x=\"143.359375\" xlink:href=\"#DejaVuSans-97\"/>\r\n     <use x=\"204.638672\" xlink:href=\"#DejaVuSans-112\"/>\r\n     <use x=\"268.115234\" xlink:href=\"#DejaVuSans-112\"/>\r\n     <use x=\"331.591797\" xlink:href=\"#DejaVuSans-114\"/>\r\n     <use x=\"370.455078\" xlink:href=\"#DejaVuSans-111\"/>\r\n     <use x=\"431.636719\" xlink:href=\"#DejaVuSans-118\"/>\r\n     <use x=\"490.816406\" xlink:href=\"#DejaVuSans-101\"/>\r\n     <use x=\"552.339844\" xlink:href=\"#DejaVuSans-100\"/>\r\n    </g>\r\n   </g>\r\n   <g id=\"text_29\">\r\n    <!-- tasked -->\r\n    <g transform=\"translate(183.921374 223.046522)scale(0.1 -0.1)\">\r\n     <defs>\r\n      <path d=\"M 9.078125 75.984375 \r\nL 18.109375 75.984375 \r\nL 18.109375 31.109375 \r\nL 44.921875 54.6875 \r\nL 56.390625 54.6875 \r\nL 27.390625 29.109375 \r\nL 57.625 0 \r\nL 45.90625 0 \r\nL 18.109375 26.703125 \r\nL 18.109375 0 \r\nL 9.078125 0 \r\nz\r\n\" id=\"DejaVuSans-107\"/>\r\n     </defs>\r\n     <use xlink:href=\"#DejaVuSans-116\"/>\r\n     <use x=\"39.208984\" xlink:href=\"#DejaVuSans-97\"/>\r\n     <use x=\"100.488281\" xlink:href=\"#DejaVuSans-115\"/>\r\n     <use x=\"152.587891\" xlink:href=\"#DejaVuSans-107\"/>\r\n     <use x=\"206.873047\" xlink:href=\"#DejaVuSans-101\"/>\r\n     <use x=\"268.396484\" xlink:href=\"#DejaVuSans-100\"/>\r\n    </g>\r\n   </g>\r\n   <g id=\"text_30\">\r\n    <!-- heartened -->\r\n    <g transform=\"translate(236.988425 240.887901)scale(0.1 -0.1)\">\r\n     <use xlink:href=\"#DejaVuSans-104\"/>\r\n     <use x=\"63.378906\" xlink:href=\"#DejaVuSans-101\"/>\r\n     <use x=\"124.902344\" xlink:href=\"#DejaVuSans-97\"/>\r\n     <use x=\"186.181641\" xlink:href=\"#DejaVuSans-114\"/>\r\n     <use x=\"227.294922\" xlink:href=\"#DejaVuSans-116\"/>\r\n     <use x=\"266.503906\" xlink:href=\"#DejaVuSans-101\"/>\r\n     <use x=\"328.027344\" xlink:href=\"#DejaVuSans-110\"/>\r\n     <use x=\"391.40625\" xlink:href=\"#DejaVuSans-101\"/>\r\n     <use x=\"452.929688\" xlink:href=\"#DejaVuSans-100\"/>\r\n    </g>\r\n   </g>\r\n   <g id=\"text_31\">\r\n    <!-- allocating -->\r\n    <g transform=\"translate(282.181598 209.33468)scale(0.1 -0.1)\">\r\n     <use xlink:href=\"#DejaVuSans-97\"/>\r\n     <use x=\"61.279297\" xlink:href=\"#DejaVuSans-108\"/>\r\n     <use x=\"89.0625\" xlink:href=\"#DejaVuSans-108\"/>\r\n     <use x=\"116.845703\" xlink:href=\"#DejaVuSans-111\"/>\r\n     <use x=\"178.027344\" xlink:href=\"#DejaVuSans-99\"/>\r\n     <use x=\"233.007812\" xlink:href=\"#DejaVuSans-97\"/>\r\n     <use x=\"294.287109\" xlink:href=\"#DejaVuSans-116\"/>\r\n     <use x=\"333.496094\" xlink:href=\"#DejaVuSans-105\"/>\r\n     <use x=\"361.279297\" xlink:href=\"#DejaVuSans-110\"/>\r\n     <use x=\"424.658203\" xlink:href=\"#DejaVuSans-103\"/>\r\n    </g>\r\n   </g>\r\n   <g id=\"text_32\">\r\n    <!-- know -->\r\n    <g transform=\"translate(418.985292 417.274514)scale(0.1 -0.1)\">\r\n     <defs>\r\n      <path d=\"M 4.203125 54.6875 \r\nL 13.1875 54.6875 \r\nL 24.421875 12.015625 \r\nL 35.59375 54.6875 \r\nL 46.1875 54.6875 \r\nL 57.421875 12.015625 \r\nL 68.609375 54.6875 \r\nL 77.59375 54.6875 \r\nL 63.28125 0 \r\nL 52.6875 0 \r\nL 40.921875 44.828125 \r\nL 29.109375 0 \r\nL 18.5 0 \r\nz\r\n\" id=\"DejaVuSans-119\"/>\r\n     </defs>\r\n     <use xlink:href=\"#DejaVuSans-107\"/>\r\n     <use x=\"57.910156\" xlink:href=\"#DejaVuSans-110\"/>\r\n     <use x=\"121.289062\" xlink:href=\"#DejaVuSans-111\"/>\r\n     <use x=\"182.470703\" xlink:href=\"#DejaVuSans-119\"/>\r\n    </g>\r\n   </g>\r\n   <g id=\"text_33\">\r\n    <!-- half -->\r\n    <g transform=\"translate(65.753366 251.38299)scale(0.1 -0.1)\">\r\n     <use xlink:href=\"#DejaVuSans-104\"/>\r\n     <use x=\"63.378906\" xlink:href=\"#DejaVuSans-97\"/>\r\n     <use x=\"124.658203\" xlink:href=\"#DejaVuSans-108\"/>\r\n     <use x=\"152.441406\" xlink:href=\"#DejaVuSans-102\"/>\r\n    </g>\r\n   </g>\r\n   <g id=\"text_34\">\r\n    <!-- afford -->\r\n    <g transform=\"translate(369.53387 311.012569)scale(0.1 -0.1)\">\r\n     <use xlink:href=\"#DejaVuSans-97\"/>\r\n     <use x=\"61.279297\" xlink:href=\"#DejaVuSans-102\"/>\r\n     <use x=\"96.484375\" xlink:href=\"#DejaVuSans-102\"/>\r\n     <use x=\"131.689453\" xlink:href=\"#DejaVuSans-111\"/>\r\n     <use x=\"192.871094\" xlink:href=\"#DejaVuSans-114\"/>\r\n     <use x=\"232.234375\" xlink:href=\"#DejaVuSans-100\"/>\r\n    </g>\r\n   </g>\r\n   <g id=\"text_35\">\r\n    <!-- ultimately -->\r\n    <g transform=\"translate(133.386423 207.9039)scale(0.1 -0.1)\">\r\n     <use xlink:href=\"#DejaVuSans-117\"/>\r\n     <use x=\"63.378906\" xlink:href=\"#DejaVuSans-108\"/>\r\n     <use x=\"91.162109\" xlink:href=\"#DejaVuSans-116\"/>\r\n     <use x=\"130.371094\" xlink:href=\"#DejaVuSans-105\"/>\r\n     <use x=\"158.154297\" xlink:href=\"#DejaVuSans-109\"/>\r\n     <use x=\"255.566406\" xlink:href=\"#DejaVuSans-97\"/>\r\n     <use x=\"316.845703\" xlink:href=\"#DejaVuSans-116\"/>\r\n     <use x=\"356.054688\" xlink:href=\"#DejaVuSans-101\"/>\r\n     <use x=\"417.578125\" xlink:href=\"#DejaVuSans-108\"/>\r\n     <use x=\"445.361328\" xlink:href=\"#DejaVuSans-121\"/>\r\n    </g>\r\n   </g>\r\n   <g id=\"text_36\">\r\n    <!-- favored -->\r\n    <g transform=\"translate(203.560868 284.76823)scale(0.1 -0.1)\">\r\n     <use xlink:href=\"#DejaVuSans-102\"/>\r\n     <use x=\"35.205078\" xlink:href=\"#DejaVuSans-97\"/>\r\n     <use x=\"96.484375\" xlink:href=\"#DejaVuSans-118\"/>\r\n     <use x=\"155.664062\" xlink:href=\"#DejaVuSans-111\"/>\r\n     <use x=\"216.845703\" xlink:href=\"#DejaVuSans-114\"/>\r\n     <use x=\"255.708984\" xlink:href=\"#DejaVuSans-101\"/>\r\n     <use x=\"317.232422\" xlink:href=\"#DejaVuSans-100\"/>\r\n    </g>\r\n   </g>\r\n   <g id=\"text_37\">\r\n    <!-- questions -->\r\n    <g transform=\"translate(522.29882 392.798605)scale(0.1 -0.1)\">\r\n     <defs>\r\n      <path d=\"M 14.796875 27.296875 \r\nQ 14.796875 17.390625 18.875 11.75 \r\nQ 22.953125 6.109375 30.078125 6.109375 \r\nQ 37.203125 6.109375 41.296875 11.75 \r\nQ 45.40625 17.390625 45.40625 27.296875 \r\nQ 45.40625 37.203125 41.296875 42.84375 \r\nQ 37.203125 48.484375 30.078125 48.484375 \r\nQ 22.953125 48.484375 18.875 42.84375 \r\nQ 14.796875 37.203125 14.796875 27.296875 \r\nz\r\nM 45.40625 8.203125 \r\nQ 42.578125 3.328125 38.25 0.953125 \r\nQ 33.9375 -1.421875 27.875 -1.421875 \r\nQ 17.96875 -1.421875 11.734375 6.484375 \r\nQ 5.515625 14.40625 5.515625 27.296875 \r\nQ 5.515625 40.1875 11.734375 48.09375 \r\nQ 17.96875 56 27.875 56 \r\nQ 33.9375 56 38.25 53.625 \r\nQ 42.578125 51.265625 45.40625 46.390625 \r\nL 45.40625 54.6875 \r\nL 54.390625 54.6875 \r\nL 54.390625 -20.796875 \r\nL 45.40625 -20.796875 \r\nz\r\n\" id=\"DejaVuSans-113\"/>\r\n     </defs>\r\n     <use xlink:href=\"#DejaVuSans-113\"/>\r\n     <use x=\"63.476562\" xlink:href=\"#DejaVuSans-117\"/>\r\n     <use x=\"126.855469\" xlink:href=\"#DejaVuSans-101\"/>\r\n     <use x=\"188.378906\" xlink:href=\"#DejaVuSans-115\"/>\r\n     <use x=\"240.478516\" xlink:href=\"#DejaVuSans-116\"/>\r\n     <use x=\"279.6875\" xlink:href=\"#DejaVuSans-105\"/>\r\n     <use x=\"307.470703\" xlink:href=\"#DejaVuSans-111\"/>\r\n     <use x=\"368.652344\" xlink:href=\"#DejaVuSans-110\"/>\r\n     <use x=\"432.03125\" xlink:href=\"#DejaVuSans-115\"/>\r\n    </g>\r\n   </g>\r\n  </g>\r\n </g>\r\n <defs>\r\n  <clipPath id=\"pb3f6928897\">\r\n   <rect height=\"489.24\" width=\"502.2\" x=\"41.667188\" y=\"7.2\"/>\r\n  </clipPath>\r\n </defs>\r\n</svg>\r\n",
      "image/png": "[encoded data removed]"
     },
     "metadata": {
      "needs_background": "light"
     }
    }
   ],
   "source": [
    "colors = [\"red\", \"blue\", \"green\", \"purple\"]\n",
    "words: List[str] = []\n",
    "for (k, v) in similar_words.items():    \n",
    "    words.append(k)\n",
    "    words += v\n",
    "word_ids = [word_id_map[w] for w in words]\n",
    "vecs = np.array([weights[w_id] for w_id in word_ids])\n",
    "tsne = TSNE(n_components=2, random_state=42, n_iter=20000, perplexity=3)\n",
    "np.set_printoptions(suppress=True)\n",
    "projection = tsne.fit_transform(vecs)\n",
    "labels = words\n",
    "plt.figure(figsize=(9, 9))\n",
    "start = 0\n",
    "end = 0\n",
    "for i, color in enumerate(colors):\n",
    "    end += 6\n",
    "    plt.scatter(projection[start:end,0], projection[start:end,1], c=color, edgecolors='k')\n",
    "    start += 6\n",
    "for label, x, y in zip(labels, projection[:,0], projection[:,1]):\n",
    "    plt.annotate(label, xy=(x+1, y+1), xytext=(0,0), textcoords='offset points')"
   ]
  },
  {
   "source": [
    "Let's annotate the graph to show the groupings: \n",
    "\n",
    "<img src=\"./tsne.png\" width=\"428\" height=\"396\" /> \n",
    "\n",
    "The result is not ideal. The red group is split in two; the groups are somewhat amorphous; and the groups are close to one another. That said, the T-SNE plot does succeeds in clustering the groups visually.\n"
   ],
   "cell_type": "markdown",
   "metadata": {}
  },
  {
   "source": [
    "## Summary\n",
    "\n",
    "### Does Word2Vec cluster similar words?\n",
    "\n",
    "This experiment provides some support for the distributional hypothesis: \n",
    "\n",
    "* The four nearest words to _citizens_ in the embedding space were _institutions, peoples, governments, and economic_, which is a logical cluster. \n",
    "* The second closest word to _life_ was _effort_, which is a sensible outcome. \n",
    "* Three of the closest words to _senate_ were _disapproved, tasked, and allocating_, which seem to describe activities expected of the U.S. Senate. \n",
    "\n",
    "However, other outcomes were more puzzling: the closest word to _senate_ was _presently_, and the closest word to _know_ was _half_. \n",
    "\n",
    "### Practical use of Word2Vec embeddings\n",
    "\n",
    "While the projection of words into an embedding space seems elegant from the standpoint of the distributional hypothesis, in practice it is fraught with difficulty. I ran into two major problems:\n",
    "\n",
    "1. Loss was increasing with each epoch. When I debugged into the training code, I saw that loss was decreasing early on. By the time an epoch had been reached, however, it was already increasing. The learning rate was set too large in the optimizer, causing the local minimum to be overshot. I solved the problem by decreasing the learning rate.\n",
    "\n",
    "2. The T-SNE projection was noisy. Perhaps a larger corpus would yield better differentiation.\n",
    "\n",
    "For this reason, the practitioner is advised to use a pre-trained embedding, or perhaps to use a different pre-trained embedding such as GloVe.\n"
   ],
   "cell_type": "markdown",
   "metadata": {}
  },
  {
   "source": [
    "## References\n",
    "\n",
    "Mikolov, T. et al. (September 7, 2013). _Efficient Estimation of Word Representations in Vector Space_. ArXiv.org. https://arxiv.org/pdf/1301.3781.pdf\n",
    "\n",
    "Sarkar, D. (2019). _Text Analytics with Python, Second Edition_. Apress\n",
    "\n",
    "Wiki of the Association for Computational Linguistics (2010). _Distributional Hypothesis_. https://aclweb.org/aclwiki/Distributional_Hypothesis"
   ],
   "cell_type": "markdown",
   "metadata": {}
  }
 ]
}